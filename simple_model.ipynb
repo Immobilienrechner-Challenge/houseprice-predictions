{
 "cells": [
  {
   "cell_type": "code",
   "execution_count": 40,
   "metadata": {},
   "outputs": [],
   "source": [
    "import sys\n",
    "import pandas\n",
    "\n",
    "from joblib import dump\n",
    "from sklearn.linear_model import Ridge\n",
    "\n",
    "sys.path.append('../explorative-data-analysis')\n",
    "from helper import ImmoHelper"
   ]
  },
  {
   "cell_type": "code",
   "execution_count": 41,
   "metadata": {},
   "outputs": [],
   "source": [
    "helper = ImmoHelper()\n",
    "X, y = helper.process_data()"
   ]
  },
  {
   "cell_type": "code",
   "execution_count": 42,
   "metadata": {},
   "outputs": [],
   "source": [
    "model = Ridge(alpha = 0.1).fit(X, y)"
   ]
  },
  {
   "cell_type": "code",
   "execution_count": 43,
   "metadata": {},
   "outputs": [
    {
     "data": {
      "text/plain": [
       "0.457755991955457"
      ]
     },
     "execution_count": 43,
     "metadata": {},
     "output_type": "execute_result"
    }
   ],
   "source": [
    "model.score(X, y)"
   ]
  },
  {
   "cell_type": "code",
   "execution_count": 44,
   "metadata": {},
   "outputs": [
    {
     "data": {
      "text/plain": [
       "array([[100.  ,   5.  ,   5.89, ...,   0.  ,   0.  ,   0.  ],\n",
       "       [156.  ,   5.  ,   5.89, ...,   0.  ,   1.  ,   0.  ],\n",
       "       [154.  ,   5.  ,   5.89, ...,   0.  ,   0.  ,   0.  ],\n",
       "       ...,\n",
       "       [150.  ,   5.  ,   4.33, ...,   0.  ,   1.  ,   0.  ],\n",
       "       [145.  ,   6.  ,   4.35, ...,   0.  ,   0.  ,   0.  ],\n",
       "       [385.  ,   5.  ,   4.88, ...,   0.  ,   0.  ,   0.  ]])"
      ]
     },
     "execution_count": 44,
     "metadata": {},
     "output_type": "execute_result"
    }
   ],
   "source": [
    "X"
   ]
  },
  {
   "cell_type": "code",
   "execution_count": 45,
   "metadata": {},
   "outputs": [
    {
     "data": {
      "text/plain": [
       "array([1150000., 1420000., 1430000., ..., 1415000., 1465000., 2750000.])"
      ]
     },
     "execution_count": 45,
     "metadata": {},
     "output_type": "execute_result"
    }
   ],
   "source": [
    "y"
   ]
  },
  {
   "cell_type": "code",
   "execution_count": 46,
   "metadata": {},
   "outputs": [
    {
     "data": {
      "text/plain": [
       "array([ 892738.19110845, 1101466.04676264, 1055360.70317769, ...,\n",
       "       1073168.97277858, 1000805.19250163, 3208028.6143485 ])"
      ]
     },
     "execution_count": 46,
     "metadata": {},
     "output_type": "execute_result"
    }
   ],
   "source": [
    "model.predict(X)"
   ]
  },
  {
   "cell_type": "code",
   "execution_count": 47,
   "metadata": {},
   "outputs": [
    {
     "data": {
      "text/plain": [
       "array([ 9.24278693e+03,  1.81812470e+03, -1.74100305e+04,  2.11776596e+05,\n",
       "        2.75456028e+05, -2.19280597e+06,  4.37071052e+05,  6.13012409e+04,\n",
       "       -6.78846930e+05,  1.96811828e+05, -5.76962199e+05,  2.59469456e+05,\n",
       "        7.60865245e+05,  3.12823686e+04,  3.97789223e+05, -1.98641832e+05,\n",
       "        2.30295997e+05,  8.66159771e+04,  0.00000000e+00,  2.71524410e+05,\n",
       "       -7.27606616e+04,  1.38816010e+05,  8.89210107e+04,  2.72021154e+05])"
      ]
     },
     "execution_count": 47,
     "metadata": {},
     "output_type": "execute_result"
    }
   ],
   "source": [
    "model.coef_"
   ]
  },
  {
   "cell_type": "code",
   "execution_count": 48,
   "metadata": {},
   "outputs": [
    {
     "data": {
      "text/plain": [
       "-335875.26852401067"
      ]
     },
     "execution_count": 48,
     "metadata": {},
     "output_type": "execute_result"
    }
   ],
   "source": [
    "model.intercept_"
   ]
  },
  {
   "cell_type": "code",
   "execution_count": 49,
   "metadata": {},
   "outputs": [
    {
     "data": {
      "text/plain": [
       "['simple_model.joblib']"
      ]
     },
     "execution_count": 49,
     "metadata": {},
     "output_type": "execute_result"
    }
   ],
   "source": [
    "dump(model, 'simple_model.joblib')"
   ]
  }
 ],
 "metadata": {
  "kernelspec": {
   "display_name": "Python 3 (ipykernel)",
   "language": "python",
   "name": "python3"
  },
  "language_info": {
   "codemirror_mode": {
    "name": "ipython",
    "version": 3
   },
   "file_extension": ".py",
   "mimetype": "text/x-python",
   "name": "python",
   "nbconvert_exporter": "python",
   "pygments_lexer": "ipython3",
   "version": "3.9.7"
  },
  "vscode": {
   "interpreter": {
    "hash": "f46e390ebb1ddf5491fd89d9ad6ad07bce30ede12b9a11821d34b748251f6923"
   }
  }
 },
 "nbformat": 4,
 "nbformat_minor": 2
}
