{
 "cells": [
  {
   "cell_type": "markdown",
   "metadata": {},
   "source": [
    "# Bestmögliches Regressionsmodell - kaggle-Contest\n",
    "\n",
    "Challenge: cml1/3Db Immobilienrechner <br/>\n",
    "Team: Alexander Shanmugam, Si Ben Tran, Gabriel Torrez Gamez, Haris Alic <br/>\n",
    "Aufgabe: 2.2 Bestmögliches Regressionsmodell - kaggle-Contest\n",
    "\n",
    "Entwickle mit beliebigen Algorithmen das bestmögliche Modell im Sinne des Mean absolute percentage error (MAPE). Vegleiche dabei mindestens drei algorithmische Ansätze, wobei ein multiples lineares Modell Teil davon sein soll als Benchmark. Untersuche die ‘Variable Importance’ für dein bestes Modell.\n",
    "\n",
    "Abgabe\n",
    "\n",
    "Notebook und daraus erstellter Bericht (ohne Code) als pdf, welche die Entwicklung deines besten Modells, sowie der zwei weiteren Modelle dokumentiert, inklusive verwendeter Features, Preprocessing, Model Selection Prozess und Untersuchung der ‘Variable Importance’.\n",
    "\n",
    "Eingabe der Vorhersage des Preises für den Testdatensatz mit deinem bestmöglichen Modell auf kaggle.\n",
    "\n"
   ]
  },
  {
   "cell_type": "markdown",
   "metadata": {},
   "source": [
    "---\n",
    "# Module importieren\n",
    "\n",
    "Hier in diesem Abschnitt importieren wir die wichtigisten Module, die wir für die weitere Bearbeitung unserer Machine Learning Modelle benötigen, um die Vorhersage des Immobilienpreises zu erstellen."
   ]
  },
  {
   "cell_type": "code",
   "execution_count": 1,
   "metadata": {},
   "outputs": [],
   "source": [
    "# Basic Data Science modules\n",
    "import pandas as pd\n",
    "import numpy as np\n",
    "import matplotlib.pyplot as plt\n",
    "import seaborn as sns\n",
    "\n",
    "# Sklearn modules\n",
    "\n",
    "## pipeline\n",
    "from sklearn.pipeline import make_pipeline\n",
    "\n",
    "## preprocessing\n",
    "from sklearn.preprocessing import StandardScaler\n",
    "\n",
    "## linear_model\n",
    "from sklearn.linear_model import LinearRegression, Lasso, Ridge, ElasticNet\n",
    "\n",
    "## neighbors\n",
    "from sklearn.neighbors import KNeighborsRegressor\n",
    "\n",
    "## tree\n",
    "from sklearn.tree import DecisionTreeRegressor\n",
    "\n",
    "## ensemble\n",
    "from sklearn.ensemble import RandomForestRegressor, GradientBoostingRegressor, AdaBoostRegressor\n",
    "\n",
    "## model_selection\n",
    "from sklearn.model_selection import train_test_split, GridSearchCV\n",
    "\n",
    "## metrics\n",
    "from sklearn.metrics import mean_absolute_percentage_error\n",
    "\n",
    "# xgboost\n",
    "import xgboost as XGBRegressor"
   ]
  },
  {
   "cell_type": "markdown",
   "metadata": {},
   "source": [
    "---\n",
    "# Daten importieren\n",
    "\n",
    "Hier in diesem Abschnitt importieren wir die Immobilien Daten, die uns Fernando zur Verfügung gestellt hat.\n",
    "\n",
    "v1 ist der von uns bearbeitete und bereinigter Datensatz \n",
    "\n",
    "v2 ist der von Fernando bearbeitete und bereinigter Datensatz "
   ]
  },
  {
   "cell_type": "code",
   "execution_count": 10,
   "metadata": {},
   "outputs": [],
   "source": [
    "# url and relative path for the data\n",
    "\n",
    "rel_path_v1 = \"https://raw.githubusercontent.com/Immobilienrechner-Challenge/data/main/clean_gde.csv\"\n",
    "# Clean data einlesen\n",
    "rel_path_v2 = \"../data/immo_data_202208_v2.parquet\"\n",
    "\n",
    "# Read data into pandas dataframe\n",
    "raw_df_v1 = pd.read_csv(rel_path_v1, index_col=0)\n",
    "raw_df_v2 = pd.read_parquet(rel_path_v2)"
   ]
  },
  {
   "cell_type": "markdown",
   "metadata": {},
   "source": [
    "---\n",
    "# Daten vorbereiten\n",
    "\n",
    "Hier werden die Daten vorbereitet, indem wir die Daten in Trainings- und Validierungsdaten aufteilen.\n",
    "Die Testdaten befinden sich bereits auf der Kaggle Plattform und werden von Fernando zur Verfügung gestellt."
   ]
  },
  {
   "cell_type": "code",
   "execution_count": null,
   "metadata": {},
   "outputs": [
    {
     "name": "stdout",
     "output_type": "stream",
     "text": [
      "Number of dtypes: float64    54\n",
      "object      2\n",
      "int64       1\n",
      "dtype: int64\n",
      "Dtypes object columns: Index(['canton', 'type'], dtype='object')\n",
      "Shape of df_v1: (21424, 124)\n",
      "Top 10 cols with highest NA values: floor_space                18551\n",
      "plot_area                  16586\n",
      "floor                      15938\n",
      "gde_politics_pda           10206\n",
      "rooms                       8910\n",
      "gde_politics_bdp            8207\n",
      "gde_politics_rights         6156\n",
      "gde_politics_glp            5340\n",
      "gde_politics_evp            4153\n",
      "living_space                1504\n",
      "price                       1031\n",
      "gde_politics_gps             495\n",
      "gde_politics_cvp             334\n",
      "gde_politics_fdp             157\n",
      "gde_politics_sp              102\n",
      "gde_politics_svp              55\n",
      "canton_UR                      0\n",
      "type_Farm house                0\n",
      "canton_SO                      0\n",
      "canton_SZ                      0\n",
      "canton_TG                      0\n",
      "type_Hobby room                0\n",
      "type_Granny flat               0\n",
      "type_Furnished dwelling        0\n",
      "type_Duplex                    0\n",
      "canton_TI                      0\n",
      "type_Chalet                    0\n",
      "type_Cellar compartment        0\n",
      "type_Castle                    0\n",
      "type_Bifamiliar house          0\n",
      "dtype: int64\n"
     ]
    }
   ],
   "source": [
    "# drop the columns municipality, street, street_nr and zip_code\n",
    "df_v1 = raw_df_v1.drop(columns=[\"municipality\", \"street\", \"street_nr\", \"zip_code\", \"availability\"])\n",
    "\n",
    "# count number of dtypes\n",
    "print(\"Number of dtypes:\", df_v1.dtypes.value_counts())\n",
    "\n",
    "# print dtypes object columns\n",
    "print(\"Dtypes object columns:\", df_v1.select_dtypes(include=\"object\").columns)\n",
    "\n",
    "# make one hot encoding for the columns objects\n",
    "df_v1 = pd.get_dummies(df_v1, columns = ['canton', 'type'])\n",
    "\n",
    "# print shape of df_v1\n",
    "print(\"Shape of df_v1:\", df_v1.shape) \n",
    "\n",
    "# get top 10 cols with highest NA values\n",
    "print(\"Top 10 cols with highest NA values:\", df_v1.isna().sum().sort_values(ascending=False).head(30))\n"
   ]
  },
  {
   "cell_type": "markdown",
   "metadata": {},
   "source": [
    "## Daten V1 \n",
    "\n",
    "Hier bearbeiten wir die Daten, die wir anfang 3. Semester erhalten haben."
   ]
  },
  {
   "cell_type": "code",
   "execution_count": null,
   "metadata": {},
   "outputs": [
    {
     "name": "stdout",
     "output_type": "stream",
     "text": [
      "Shape of X_train_v1:  (17139, 123)\n",
      "Shape of y_train_v1:  (17139,)\n",
      "Shape of X_test_v1:  (4285, 123)\n",
      "Shape of y_test_v1:  (4285,)\n"
     ]
    }
   ],
   "source": [
    "# splitting dataframe into train and test set\n",
    "train_v1, test_v1 = train_test_split(df_v1, test_size=0.2, random_state=42)\n",
    "\n",
    "# splitting train_v1 and test_v1 into X and y \n",
    "X_train_v1 = train_v1.drop(\"price\", axis=1)\n",
    "y_train_v1 = train_v1[\"price\"]\n",
    "\n",
    "X_test_v1 = test_v1.drop(\"price\", axis=1)\n",
    "y_test_v1 = test_v1[\"price\"]\n",
    "\n",
    "# print shape of X_train_v1, y_train_v1, X_test_v1, y_test_v1\n",
    "print(\"Shape of X_train_v1: \", X_train_v1.shape)\n",
    "print(\"Shape of y_train_v1: \", y_train_v1.shape)\n",
    "print(\"Shape of X_test_v1: \", X_test_v1.shape)\n",
    "print(\"Shape of y_test_v1: \", y_test_v1.shape)"
   ]
  },
  {
   "cell_type": "markdown",
   "metadata": {},
   "source": [
    "## Daten V2\n",
    "\n",
    "Hier bearbeiten wir die Daten, die wir von Fernando in der Mitte des Semester (18.11.2022) erhalten haben. <br/>\n",
    "Die Dokumentation der Features ist unter folgenden Link zu finden: [Link](www.gooogle.com)"
   ]
  },
  {
   "cell_type": "code",
   "execution_count": null,
   "metadata": {},
   "outputs": [],
   "source": [
    "# CODE"
   ]
  },
  {
   "cell_type": "markdown",
   "metadata": {},
   "source": [
    "---\n",
    "# Development Data \n",
    "\n",
    "Um unsere Modelle zu entwickeln, verwenden wir die Development Data fuer das erste. \n",
    "Im Zeiten druchlauf verwenden wir dann unseren Immobilien Datensatz. "
   ]
  },
  {
   "cell_type": "code",
   "execution_count": 2,
   "metadata": {},
   "outputs": [
    {
     "name": "stdout",
     "output_type": "stream",
     "text": [
      "Shape of X_train:  (353, 10)\n",
      "Shape of y_train:  (353,)\n",
      "Shape of X_test:  (89, 10)\n",
      "Shape of y_test:  (89,)\n"
     ]
    }
   ],
   "source": [
    "# load sklearn diabetes dataset\n",
    "from sklearn.datasets import load_diabetes\n",
    "\n",
    "# load dataset\n",
    "diabetes = load_diabetes()\n",
    "\n",
    "# create dataframe\n",
    "df = pd.DataFrame(diabetes.data, columns=diabetes.feature_names)\n",
    "\n",
    "# add target to dataframe\n",
    "df[\"target\"] = diabetes.target\n",
    "\n",
    "# split dataframe into train and test set\n",
    "train, test = train_test_split(df, test_size=0.2, random_state=42)\n",
    "\n",
    "# split train and test set into X and y\n",
    "X_train_dev = train.drop(\"target\", axis=1)\n",
    "y_train_dev = train[\"target\"]\n",
    "\n",
    "X_test_dev = test.drop(\"target\", axis=1)\n",
    "y_test_dev = test[\"target\"]\n",
    "\n",
    "# print shape of X_train, y_train, X_test, y_test\n",
    "print(\"Shape of X_train: \", X_train_dev.shape)\n",
    "print(\"Shape of y_train: \", y_train_dev.shape)\n",
    "print(\"Shape of X_test: \", X_test_dev.shape)\n",
    "print(\"Shape of y_test: \", y_test_dev.shape)"
   ]
  },
  {
   "cell_type": "markdown",
   "metadata": {},
   "source": [
    "---\n",
    "# Modell 1 - Multiple Lineare Model \n",
    "\n",
    "Modell 1 ist ein multiples lineares Modell, welches wir als Benchmark für die weiteren Modelle verwenden werden. Wir haben uns für dieses Modell entschieden, da es ein einfaches Modell ist, welches wir schnell erstellen können und es uns ermöglicht, die Vorhersage des Preises zu erstellen.\n",
    "\n",
    "[fernando] -> Gewichtung der Features"
   ]
  },
  {
   "cell_type": "code",
   "execution_count": 6,
   "metadata": {},
   "outputs": [
    {
     "name": "stdout",
     "output_type": "stream",
     "text": [
      "Fitting 5 folds for each of 4 candidates, totalling 20 fits\n",
      "Best params: {'fit_intercept': True, 'positive': False}\n",
      "Mean absolute percentage error: 0.37499812530899335\n"
     ]
    },
    {
     "data": {
      "image/png": "[encoded data removed]",
      "text/plain": [
       "<Figure size 1440x432 with 1 Axes>"
      ]
     },
     "metadata": {
      "needs_background": "light"
     },
     "output_type": "display_data"
    }
   ],
   "source": [
    "# make a linear regression function with gridsearchcv\n",
    "def linear_regression(X_train, y_train, X_test, y_test, cv=5, verbose=1):\n",
    "    \"\"\"\n",
    "    Function to make a linear regression model with gridsearchcv.\n",
    "\n",
    "    Parameters\n",
    "    ----------\n",
    "    X_train : array-like\n",
    "        Training data.\n",
    "    y_train : array-like\n",
    "        Target values.\n",
    "    X_test : array-like\n",
    "        Test data.\n",
    "    y_test : array-like\n",
    "        Target values.\n",
    "    cv : int, default=5\n",
    "        Cross-validation fold.\n",
    "    verbose : int, default=1\n",
    "        Controls the verbosity: the higher, the more messages.\n",
    "     \n",
    "    Returns\n",
    "    -------\n",
    "    model : object\n",
    "        the best linear regression fitted model \n",
    "    \"\"\"\n",
    "    \n",
    "\n",
    "    # create a linear regression model\n",
    "    lin_reg = LinearRegression()\n",
    "\n",
    "     # create a dictionary with the parameters\n",
    "    params = {\"fit_intercept\": [True, False],\n",
    "              \"positive\": [True, False],}\n",
    "\n",
    "    # create a gridsearchcv model\n",
    "    lin_reg_grid = GridSearchCV(lin_reg, params, cv=cv, n_jobs=-1, scoring=\"neg_mean_absolute_percentage_error\", verbose=verbose)\n",
    "\n",
    "    # fit the model\n",
    "    lin_reg_grid.fit(X_train, y_train)\n",
    "    \n",
    "    # print the best parameters\n",
    "    print(\"Best params:\", lin_reg_grid.best_params_)\n",
    "\n",
    "    # make predictions\n",
    "    y_pred_lin = lin_reg_grid.predict(X_test)\n",
    "\n",
    "    # print the mean absolute percentage error\n",
    "    mape_lin_reg = mean_absolute_percentage_error(y_test, y_pred_lin)\n",
    "    print(\"Mean absolute percentage error:\", mape_lin_reg)\n",
    "\n",
    "    # create y_test and y_pred plot\n",
    "    plt.figure(figsize=(20, 6))\n",
    "    plt.scatter(y_test, y_pred_lin, c=\"red\", alpha=0.5)\n",
    "    plot_lin = np.linspace(np.min(y_test), np.max(y_test), 2)\n",
    "    plt.plot(plot_lin, plot_lin, c=\"blue\")\n",
    "    plt.grid()\n",
    "    plt.xlabel(\"y_test\")\n",
    "    plt.ylabel(\"y_pred\")\n",
    "    plt.title(\"y_test vs y_pred \\nMAPE: \" + str(np.round(mape_lin_reg, 4)) , fontsize = 15, y = 1.03)\n",
    "    plt.show()\n",
    "\n",
    "    return lin_reg_grid\n",
    "\n",
    "# call function linear_regression for dev data\n",
    "linear_regression_dev = linear_regression(X_train_dev, y_train_dev, X_test_dev, y_test_dev, cv=5, verbose=1)"
   ]
  },
  {
   "cell_type": "markdown",
   "metadata": {},
   "source": [
    "---\n",
    "# Modell 2 - Lasso Regression\n",
    "\n",
    "Modell 2 ist ein multiples lineares Lasso Modell. "
   ]
  },
  {
   "cell_type": "code",
   "execution_count": null,
   "metadata": {},
   "outputs": [
    {
     "name": "stdout",
     "output_type": "stream",
     "text": [
      "Fitting 5 folds for each of 800 candidates, totalling 4000 fits\n",
      "Best parameters: {'alpha': 0.021544346900318832, 'fit_intercept': True, 'max_iter': 1000.0, 'positive': False, 'random_state': 42, 'selection': 'cyclic'}\n",
      "Mean absolute percentage error: 0.37387791278228594\n"
     ]
    },
    {
     "data": {
      "image/png": "[encoded data removed]",
      "text/plain": [
       "<Figure size 1440x432 with 1 Axes>"
      ]
     },
     "metadata": {
      "needs_background": "light"
     },
     "output_type": "display_data"
    }
   ],
   "source": [
    "# make a lasso regression function with gridsearchCV\n",
    "def lasso_regression_gridsearchCV(X_train, y_train, X_test, y_test, alphas = [1], iterations = [1000], cv=5, verbose=1):\n",
    "    '''\n",
    "    This function makes a lasso regression with gridsearchCV\n",
    "\n",
    "    Parameters\n",
    "    ----------\n",
    "    X_train : numpy array\n",
    "        X_train data.\n",
    "    y_train : numpy array\n",
    "        y_train data.\n",
    "    X_test : numpy array\n",
    "        X_test data.\n",
    "    y_test : numpy array\n",
    "        y_test data.\n",
    "    alphas : numpy array\n",
    "        alphas for the lasso regression.\n",
    "    iterations : numpy array\n",
    "        iterations for the lasso regression.\n",
    "    verbose : int, default=1\n",
    "        Controls the verbosity: the higher, the more messages.\n",
    "\n",
    "    Returns\n",
    "    -------\n",
    "    model : object\n",
    "        the best lasso regression fitted model\n",
    "    '''\n",
    "    # create Lasso Modell with gridsearch cv\n",
    "    lasso = Lasso()\n",
    "\n",
    "    # create parameter grid\n",
    "    param_grid = {\"alpha\": alphas,\n",
    "                  \"fit_intercept\": [True, False],\n",
    "                  \"max_iter\": iterations,\n",
    "                  \"random_state\": [42],\n",
    "                  \"positive\": [True, False],\n",
    "                  \"selection\": [\"random\", \"cyclic\"]}\n",
    "\n",
    "    # create gridsearchcv model\n",
    "    lasso_grid = GridSearchCV(lasso, param_grid, cv=cv, n_jobs = -1, scoring=\"neg_mean_absolute_percentage_error\", verbose=verbose)\n",
    "\n",
    "    # fit the model\n",
    "    lasso_grid.fit(X_train, y_train)\n",
    "\n",
    "    # print the best parameters\n",
    "    print(\"Best parameters:\", lasso_grid.best_params_)\n",
    "\n",
    "    # predict the model\n",
    "    y_pred_lasso = lasso_grid.predict(X_test)\n",
    "\n",
    "    # print the mean absolute percentage error\n",
    "    mape_lasso = mean_absolute_percentage_error(y_test, y_pred_lasso)\n",
    "    print(\"Mean absolute percentage error:\", mape_lasso)\n",
    "\n",
    "    # create plot y vs yhat an draw model line\n",
    "    plt.figure(figsize=(20, 6))\n",
    "    plt.scatter(y_test, y_pred_lasso, c=\"red\", alpha=0.5)\n",
    "    plt.plot(y_test, y_test, c=\"blue\")\n",
    "    plt.grid()\n",
    "    plt.xlabel(\"y\")\n",
    "    plt.ylabel(\"yhat\")\n",
    "    plt.title(\"y_test vs y_pred \\nMAPE: \" + str(np.round(mape_lasso, 4)) , fontsize = 15, y = 1.03)\n",
    "    plt.show()\n",
    "\n",
    "    return lasso_grid\n",
    "    \n",
    "# call the function\n",
    "lasso_regression_dev = lasso_regression_gridsearchCV(X_train_dev, y_train_dev, X_test_dev, y_test_dev, np.logspace(-2, 1, 10), np.logspace(3,4,10), cv = 5, verbose = 1)"
   ]
  },
  {
   "cell_type": "markdown",
   "metadata": {},
   "source": [
    "---\n",
    "# Modell 3 - Ridge Regression\n",
    "\n",
    "Modell 3 ist ein multiples lineares Ridge Modell."
   ]
  },
  {
   "cell_type": "code",
   "execution_count": null,
   "metadata": {},
   "outputs": [
    {
     "name": "stdout",
     "output_type": "stream",
     "text": [
      "Fitting 5 folds for each of 400 candidates, totalling 2000 fits\n",
      "Best parameters: {'alpha': 0.01, 'fit_intercept': True, 'max_iter': 1000.0, 'positive': False, 'random_state': 42}\n",
      "Mean absolute percentage error: 0.3738389472958006\n"
     ]
    },
    {
     "data": {
      "image/png": "[encoded data removed]",
      "text/plain": [
       "<Figure size 1440x432 with 1 Axes>"
      ]
     },
     "metadata": {
      "needs_background": "light"
     },
     "output_type": "display_data"
    }
   ],
   "source": [
    "# make a ridge regression function with gridsearchCV\n",
    "def ridge_regression_gridsearchCV(X_train, y_train, X_test, y_test, alphas = [1], iterations = [1000], cv = 5, verbose = 1):\n",
    "    '''\n",
    "    This function makes a ridge regression with gridsearchCV\n",
    "\n",
    "    Parameters\n",
    "    ----------\n",
    "    X_train : numpy array\n",
    "        X_train data.\n",
    "    y_train : numpy array\n",
    "        y_train data.\n",
    "    X_test : numpy array\n",
    "        X_test data.\n",
    "    y_test : numpy array\n",
    "        y_test data.\n",
    "    alphas : numpy array\n",
    "        alphas for the ridge regression.\n",
    "    iterations : numpy array\n",
    "        iterations for the ridge regression.\n",
    "    cv : int, default=5\n",
    "        Cross-validation fold.\n",
    "    verbose : int, default=1\n",
    "        Controls the verbosity: the higher, the more messages.\n",
    "\n",
    "\n",
    "    Returns\n",
    "    -------\n",
    "    model : object\n",
    "        the best ridge regression fitted model \n",
    "    '''\n",
    "    # create Ridge Modell with gridsearch cv\n",
    "    ridge = Ridge()\n",
    "\n",
    "    # create parameter grid\n",
    "    param_grid = {\"alpha\": alphas,\n",
    "                  \"fit_intercept\": [True, False],\n",
    "                  \"max_iter\": iterations,\n",
    "                  \"positive\": [True, False],\n",
    "                  \"random_state\": [42]}\n",
    "\n",
    "    # create gridsearchcv model\n",
    "    ridge_grid = GridSearchCV(ridge, param_grid, cv=cv, n_jobs=-1, scoring=\"neg_mean_absolute_percentage_error\", verbose=verbose)\n",
    "\n",
    "    # fit the model\n",
    "    ridge_grid.fit(X_train, y_train)\n",
    "\n",
    "    # print the best parameters\n",
    "    print(\"Best parameters:\", ridge_grid.best_params_)\n",
    "\n",
    "    # predict the model\n",
    "    y_pred_ridge = ridge_grid.predict(X_test)\n",
    "\n",
    "    # print the mean absolute percentage error\n",
    "    mape_ridge = mean_absolute_percentage_error(y_test, y_pred_ridge)\n",
    "    print(\"Mean absolute percentage error:\", mape_ridge)\n",
    "\n",
    "    # create plot y vs yhat an draw model line\n",
    "    plt.figure(figsize=(20, 6))\n",
    "    plt.scatter(y_test, y_pred_ridge, c=\"red\", alpha=0.5)\n",
    "    plt.plot(y_test, y_test, color=\"b\")\n",
    "    plt.grid()\n",
    "    plt.xlabel(\"y\")\n",
    "    plt.ylabel(\"yhat\")\n",
    "    plt.title(\"y_test vs y_pred \\nMAPE: \" + str(np.round(mape_ridge, 4)) , fontsize = 15, y = 1.03)\n",
    "    plt.show()\n",
    "\n",
    "    return ridge_grid\n",
    "\n",
    "# call the function\n",
    "ridge_regression_dev = ridge_regression_gridsearchCV(X_train_dev, y_train_dev, X_test_dev, y_test_dev, np.logspace(-2, 1, 10), iterations = np.logspace(3,4,10), cv = 5, verbose = 1)"
   ]
  },
  {
   "cell_type": "markdown",
   "metadata": {},
   "source": [
    "---\n",
    "# Modell 4 - Elastic Net Regression\n",
    "\n",
    "Modell 4 ist ein multiples lineares Elastic Net Modell."
   ]
  },
  {
   "cell_type": "code",
   "execution_count": null,
   "metadata": {},
   "outputs": [
    {
     "name": "stdout",
     "output_type": "stream",
     "text": [
      "Fitting 5 folds for each of 1000 candidates, totalling 5000 fits\n",
      "Best parameters: {'alpha': 0.01, 'fit_intercept': True, 'l1_ratio': 1.0, 'max_iter': 1000.0, 'positive': False, 'random_state': 42, 'selection': 'cyclic'}\n"
     ]
    },
    {
     "data": {
      "image/png": "[encoded data removed]",
      "text/plain": [
       "<Figure size 1440x432 with 1 Axes>"
      ]
     },
     "metadata": {
      "needs_background": "light"
     },
     "output_type": "display_data"
    }
   ],
   "source": [
    "# make a elastic net regression function with gridsearchCV\n",
    "def elastic_net_regression_gridsearchCV(X_train, y_train, X_test, y_test, alphas = [1], l1_ratio = [0.5], iterations = [1000], cv = 5, verbose = 1):\n",
    "    '''\n",
    "    This function makes a elastic net regression with gridsearchCV\n",
    "\n",
    "    Parameters\n",
    "    ----------\n",
    "    X_train : numpy array\n",
    "        X_train data.\n",
    "    y_train : numpy array\n",
    "        y_train data.\n",
    "    X_test : numpy array\n",
    "        X_test data.\n",
    "    y_test : numpy array\n",
    "        y_test data.\n",
    "    alphas : numpy array\n",
    "        alphas for the elastic net regression.\n",
    "    l1_ratio : numpy array\n",
    "        l1_ratio for the elastic net regression.\n",
    "    iterations : numpy array\n",
    "        iterations for the elastic net regression.\n",
    "    cv : int, default=5\n",
    "        Cross-validation fold.\n",
    "    verbose : int, default=1\n",
    "        Controls the verbosity: the higher, the more messages.\n",
    "\n",
    "    Returns\n",
    "    -------\n",
    "    model : object\n",
    "        the best elastic net regression fitted model \n",
    "    '''\n",
    "    # create Elastic Net Modell with gridsearch cv\n",
    "    elastic_net = ElasticNet()\n",
    "\n",
    "    # create parameter grid\n",
    "    param_grid = {\"alpha\": alphas,\n",
    "                  \"fit_intercept\": [True, False],\n",
    "                  \"l1_ratio\": l1_ratio,\n",
    "                  \"max_iter\": iterations,\n",
    "                  \"positive\": [True, False],\n",
    "                  \"random_state\": [42],\n",
    "                  \"selection\": [\"random\", \"cyclic\"]}\n",
    "\n",
    "    # create gridsearchcv model\n",
    "    elastic_net_grid = GridSearchCV(elastic_net, param_grid, cv=cv, n_jobs = -1, scoring=\"neg_mean_absolute_percentage_error\", verbose=verbose)\n",
    "\n",
    "    # fit the model\n",
    "    elastic_net_grid.fit(X_train, y_train)\n",
    "\n",
    "    # print the best parameters\n",
    "    print(\"Best parameters:\", elastic_net_grid.best_params_)\n",
    "\n",
    "    # predict the model\n",
    "    y_pred_elastic_net = elastic_net_grid.predict(X_test)\n",
    "\n",
    "    # print the mean absolute percentage error\n",
    "    mape_elastic_net = mean_absolute_percentage_error(y_test, y_pred_elastic_net)\n",
    "\n",
    "    # create plot y vs yhat an draw model line\n",
    "    plt.figure(figsize=(20, 6))\n",
    "    plt.scatter(y_test, y_pred_elastic_net, c=\"red\", alpha=0.5)\n",
    "    plt.plot(y_test, y_test, color=\"b\")\n",
    "    plt.grid()\n",
    "    plt.xlabel(\"y\")\n",
    "    plt.ylabel(\"yhat\")\n",
    "    plt.title(\"y_test vs y_pred \\nMAPE: \" + str(np.round(mape_elastic_net, 4)) , fontsize = 15, y = 1.03)\n",
    "    plt.show()\n",
    "\n",
    "    return elastic_net_grid\n",
    "\n",
    "# call the function\n",
    "elastic_net_regression_dev = elastic_net_regression_gridsearchCV(X_train_dev, y_train_dev, X_test_dev, y_test_dev, \n",
    "                                                                 alphas = np.logspace(-2, 1, 5), l1_ratio = np.linspace(0.01, 1, 5), \n",
    "                                                                 iterations = np.logspace(3,4,5), cv = 5, verbose = 1)\n"
   ]
  },
  {
   "cell_type": "markdown",
   "metadata": {},
   "source": [
    "---\n",
    "# Modell 5 - KNN Regression\n",
    "\n",
    "Modell 5 ist ein KNN Modell."
   ]
  },
  {
   "cell_type": "code",
   "execution_count": null,
   "metadata": {},
   "outputs": [
    {
     "name": "stdout",
     "output_type": "stream",
     "text": [
      "Fitting 5 folds for each of 200 candidates, totalling 1000 fits\n",
      "Best parameters: {'algorithm': 'auto', 'leaf_size': 10, 'metric': 'minkowski', 'n_neighbors': 10, 'p': 1.0, 'weights': 'distance'}\n"
     ]
    },
    {
     "data": {
      "image/png": "[encoded data removed]",
      "text/plain": [
       "<Figure size 1440x432 with 1 Axes>"
      ]
     },
     "metadata": {
      "needs_background": "light"
     },
     "output_type": "display_data"
    }
   ],
   "source": [
    "# make a KNN regression function with gridsearchCV\n",
    "def knn_regression_gridsearchCV(X_train, y_train, X_test, y_test, n_neighbors = [5], power = [1,2], leaf_size = [30], cv = 5, verbose = 1):\n",
    "    '''\n",
    "    This function makes a KNN regression with gridsearchCV\n",
    "\n",
    "    Parameters\n",
    "    ----------\n",
    "    X_train : numpy array\n",
    "        X_train data.\n",
    "    y_train : numpy array\n",
    "        y_train data.\n",
    "    X_test : numpy array\n",
    "        X_test data.\n",
    "    y_test : numpy array\n",
    "        y_test data.\n",
    "    n_neighbors : numpy array\n",
    "        n_neighbors for the KNN regression.\n",
    "    power : numpy array\n",
    "        power for the KNN regression.\n",
    "    leaf_size : numpy array\n",
    "        leaf_size for the KNN regression.\n",
    "    cv : int, default=5\n",
    "        Cross-validation fold.\n",
    "    verbose : int, default=1\n",
    "        Controls the verbosity: the higher, the more messages.\n",
    "\n",
    "    Returns\n",
    "    -------\n",
    "    model : object\n",
    "        the best KNN regression fitted model \n",
    "    '''\n",
    "    # create KNN Modell with gridsearch cv\n",
    "    knn = KNeighborsRegressor()\n",
    "\n",
    "    # create parameter grid\n",
    "    param_grid = {\"n_neighbors\": n_neighbors,\n",
    "                  \"weights\": [\"uniform\", \"distance\"],\n",
    "                  \"algorithm\": [\"auto\", \"ball_tree\", \"kd_tree\", \"brute\"],\n",
    "                  \"leaf_size\": leaf_size,\n",
    "                  \"p\": power,\n",
    "                  \"metric\": [\"minkowski\"]}\n",
    "                \n",
    "    # create gridsearchcv model\n",
    "    knn_grid = GridSearchCV(knn, param_grid, cv=cv, n_jobs = -1, scoring=\"neg_mean_absolute_percentage_error\", verbose=verbose)\n",
    "\n",
    "    # fit the model\n",
    "    knn_grid.fit(X_train, y_train)\n",
    "\n",
    "    # print the best parameters\n",
    "    print(\"Best parameters:\", knn_grid.best_params_)\n",
    "\n",
    "    # predict the model\n",
    "    y_pred_knn = knn_grid.predict(X_test)\n",
    "\n",
    "    # print the mean absolute percentage error\n",
    "    mape_knn = mean_absolute_percentage_error(y_test, y_pred_knn)\n",
    "\n",
    "    # create plot y vs yhat an draw model line\n",
    "    plt.figure(figsize=(20, 6))\n",
    "    plt.scatter(y_test, y_pred_knn, c=\"red\", alpha=0.5)\n",
    "    plt.plot(y_test, y_test, color=\"b\")\n",
    "    plt.grid()\n",
    "    plt.xlabel(\"y\")\n",
    "    plt.ylabel(\"yhat\")\n",
    "    plt.title(\"y_test vs y_pred \\nMAPE: \" + str(np.round(mape_knn, 4)) , fontsize = 15, y = 1.03)\n",
    "    plt.show()\n",
    "\n",
    "    return knn_grid\n",
    "\n",
    "# call the function\n",
    "knn_regression_dev = knn_regression_gridsearchCV(X_train_dev, y_train_dev, X_test_dev, y_test_dev, \n",
    "                                                n_neighbors = np.logspace(0, 2, 5, dtype=int),\n",
    "                                                leaf_size = np.linspace(10, 50, 5, dtype=int),\n",
    "                                                power = np.linspace(1,5,1), cv = 5, verbose = 1)"
   ]
  },
  {
   "cell_type": "markdown",
   "metadata": {},
   "source": [
    "---\n",
    "# Modell 6 - Decision Tree Regression\n",
    "\n",
    "Modell 6 ist ein Decision Tree Modell.\n",
    "\n",
    "[Feedback] -> Variable importance"
   ]
  },
  {
   "cell_type": "code",
   "execution_count": 39,
   "metadata": {},
   "outputs": [
    {
     "name": "stdout",
     "output_type": "stream",
     "text": [
      "Fitting 5 folds for each of 1800 candidates, totalling 9000 fits\n",
      "Best parameters: {'criterion': 'absolute_error', 'max_depth': 5, 'max_features': 'auto', 'min_samples_leaf': 7, 'min_samples_split': 2, 'random_state': 42, 'splitter': 'best'}\n"
     ]
    },
    {
     "data": {
      "image/png": "[encoded data removed]",
      "text/plain": [
       "<Figure size 1440x432 with 1 Axes>"
      ]
     },
     "metadata": {
      "needs_background": "light"
     },
     "output_type": "display_data"
    }
   ],
   "source": [
    "# make a decision Tree regression function with gridsearchCV\n",
    "def decision_tree_regression_gridsearchCV(X_train, y_train, X_test, y_test, max_depth = [5], min_samples_split = [2], min_samples_leaf = [1], cv = 5, verbose = 1):\n",
    "    '''\n",
    "    This function makes a decision tree regression with gridsearchCV\n",
    "\n",
    "    Parameters\n",
    "    ----------\n",
    "    X_train : numpy array\n",
    "        X_train data.\n",
    "    y_train : numpy array\n",
    "        y_train data.\n",
    "    X_test : numpy array\n",
    "        X_test data.\n",
    "    y_test : numpy array\n",
    "        y_test data.\n",
    "    max_depth : numpy array\n",
    "        max_depth for the decision tree regression.\n",
    "    min_samples_split : numpy array\n",
    "        min_samples_split for the decision tree regression.\n",
    "    min_samples_leaf : numpy array\n",
    "        min_samples_leaf for the decision tree regression.\n",
    "    cv : int, default=5\n",
    "        Cross-validation fold.\n",
    "    verbose : int, default=1\n",
    "        Controls the verbosity: the higher, the more messages.\n",
    "\n",
    "    Returns\n",
    "    -------\n",
    "    model : object\n",
    "        the best decision tree regression fitted model \n",
    "    '''\n",
    "    # create decision tree Modell with gridsearch cv\n",
    "    decision_tree = DecisionTreeRegressor()\n",
    "\n",
    "    # create parameter grid\n",
    "    param_grid = {\"max_depth\": max_depth,\n",
    "                  \"min_samples_split\": min_samples_split,\n",
    "                  \"min_samples_leaf\": min_samples_leaf,\n",
    "                  \"criterion\": [\"squared_error\", \"friedman_mse\", \"absolute_error\", \"poisson\"],\n",
    "                  \"splitter\": [\"best\", \"random\"],\n",
    "                  \"max_features\": [\"auto\", \"sqrt\", \"log2\"],\n",
    "                  \"random_state\": [42]\n",
    "                  }\n",
    "\n",
    "    # create gridsearchcv model\n",
    "    decision_tree_grid = GridSearchCV(decision_tree, param_grid, cv=cv, n_jobs=-1, scoring=\"neg_mean_absolute_percentage_error\", verbose=verbose)\n",
    "\n",
    "    # fit the model\n",
    "    decision_tree_grid.fit(X_train, y_train)\n",
    "\n",
    "    # print the best parameters\n",
    "    print(\"Best parameters:\", decision_tree_grid.best_params_)\n",
    "\n",
    "    # predict the model\n",
    "    y_pred_decision_tree = decision_tree_grid.predict(X_test)\n",
    "\n",
    "    # print the mean absolute percentage error\n",
    "    mape_decision_tree = mean_absolute_percentage_error(y_test, y_pred_decision_tree)\n",
    "\n",
    "    # create plot y vs yhat an draw model line\n",
    "    plt.figure(figsize=(20, 6))\n",
    "    plt.scatter(y_test, y_pred_decision_tree, c=\"red\", alpha=0.5)\n",
    "    plt.plot(y_test, y_test, color=\"b\")\n",
    "    plt.grid()\n",
    "    plt.xlabel(\"y\")\n",
    "    plt.ylabel(\"yhat\")\n",
    "    plt.title(\"y_test vs y_pred \\nMAPE: \" + str(np.round(mape_decision_tree, 4)) , fontsize = 15, y = 1.03)\n",
    "    plt.show()\n",
    "\n",
    "    return decision_tree_grid\n",
    "\n",
    "# call the function\n",
    "decision_tree_regression_dev = decision_tree_regression_gridsearchCV(X_train_dev, y_train_dev, X_test_dev, y_test_dev,\n",
    "                                                                    max_depth = np.linspace(1, 10, 5, dtype=int),\n",
    "                                                                    min_samples_split = np.linspace(2, 10, 5, dtype=int),\n",
    "                                                                    min_samples_leaf = np.linspace(1, 10, 5, dtype=int),\n",
    "                                                                    cv = 5, verbose = 1)\n"
   ]
  },
  {
   "cell_type": "markdown",
   "metadata": {},
   "source": [
    "---\n",
    "# Modell 7 - Random Forest Regression\n",
    "\n",
    "Modell 7 ist ein Random Forest Modell."
   ]
  },
  {
   "cell_type": "code",
   "execution_count": 40,
   "metadata": {},
   "outputs": [
    {
     "name": "stdout",
     "output_type": "stream",
     "text": [
      "Fitting 2 folds for each of 192 candidates, totalling 384 fits\n",
      "Best parameters: {'criterion': 'absolute_error', 'max_depth': 10, 'max_features': 'auto', 'min_samples_leaf': 10, 'min_samples_split': 2, 'n_estimators': 1000, 'random_state': 42}\n"
     ]
    },
    {
     "data": {
      "image/png": "[encoded data removed]",
      "text/plain": [
       "<Figure size 1440x432 with 1 Axes>"
      ]
     },
     "metadata": {
      "needs_background": "light"
     },
     "output_type": "display_data"
    }
   ],
   "source": [
    "# make a random forest regression function with gridsearchCV\n",
    "def random_forest_regression_gridsearchCV(X_train, y_train, X_test, y_test, n_estimators = [100], max_depth = [5], min_samples_split = [2], min_samples_leaf = [1], cv = 5, verbose = 1):\n",
    "    '''\n",
    "    This function makes a random forest regression with gridsearchCV\n",
    "\n",
    "    Parameters\n",
    "    ----------\n",
    "    X_train : numpy array\n",
    "        X_train data.\n",
    "    y_train : numpy array\n",
    "        y_train data.\n",
    "    X_test : numpy array\n",
    "        X_test data.\n",
    "    y_test : numpy array\n",
    "        y_test data.\n",
    "    n_estimators : numpy array\n",
    "        n_estimators for the random forest regression.\n",
    "    max_depth : numpy array\n",
    "        max_depth for the random forest regression.\n",
    "    min_samples_split : numpy array\n",
    "        min_samples_split for the random forest regression.\n",
    "    min_samples_leaf : numpy array\n",
    "        min_samples_leaf for the random forest regression.\n",
    "    cv : int, default=5\n",
    "        Cross-validation fold.\n",
    "    verbose : int, default=1\n",
    "        Controls the verbosity: the higher, the more messages.\n",
    "\n",
    "    Returns\n",
    "    -------\n",
    "    model : object\n",
    "        the best random forest regression fitted model \n",
    "    '''\n",
    "    # create random forest Modell with gridsearch cv\n",
    "    random_forest = RandomForestRegressor()\n",
    "\n",
    "    # create parameter grid\n",
    "    param_grid = {\"n_estimators\": n_estimators,\n",
    "                  \"max_depth\": max_depth,\n",
    "                  \"min_samples_split\": min_samples_split,\n",
    "                  \"min_samples_leaf\": min_samples_leaf,\n",
    "                  \"criterion\": [\"squared_error\", \"friedman_mse\", \"absolute_error\", \"poisson\"],\n",
    "                  \"max_features\": [\"auto\", \"sqrt\", \"log2\"],\n",
    "                  \"random_state\": [42]\n",
    "                  }\n",
    "\n",
    "    # create gridsearchcv model\n",
    "    random_forest_grid = GridSearchCV(random_forest, param_grid, cv=cv, n_jobs=-1, scoring=\"neg_mean_absolute_percentage_error\", verbose=verbose)\n",
    "\n",
    "    # fit the model\n",
    "    random_forest_grid.fit(X_train, y_train)\n",
    "\n",
    "    # print the best parameters\n",
    "    print(\"Best parameters:\", random_forest_grid.best_params_)\n",
    "\n",
    "    # predict the model\n",
    "    y_pred_random_forest = random_forest_grid.predict(X_test)\n",
    "\n",
    "    # print the mean absolute percentage error\n",
    "    mape_random_forest = mean_absolute_percentage_error(y_test, y_pred_random_forest)\n",
    "\n",
    "    # create plot y vs yhat an draw model line\n",
    "    plt.figure(figsize=(20, 6))\n",
    "    plt.scatter(y_test, y_pred_random_forest, c=\"red\", alpha=0.5)\n",
    "    plt.plot(y_test, y_test, color=\"b\")\n",
    "    plt.grid()\n",
    "    plt.xlabel(\"y\")\n",
    "    plt.ylabel(\"yhat\")\n",
    "    plt.title(\"y_test vs y_pred \\nMAPE: \" + str(np.round(mape_random_forest, 4)) , fontsize = 15, y = 1.03)\n",
    "    plt.show()\n",
    "\n",
    "    return random_forest_grid\n",
    "\n",
    "# call the function\n",
    "random_forest_regression_dev = random_forest_regression_gridsearchCV(X_train_dev, y_train_dev, X_test_dev, y_test_dev,\n",
    "                                                                    n_estimators = np.linspace(100, 1000, 2, dtype=int),\n",
    "                                                                    max_depth = np.linspace(1, 10, 2, dtype=int),\n",
    "                                                                    min_samples_split = np.linspace(2, 10, 2, dtype=int),\n",
    "                                                                    min_samples_leaf = np.linspace(1, 10, 2, dtype=int),\n",
    "                                                                    cv = 2, verbose = 1)\n"
   ]
  },
  {
   "cell_type": "markdown",
   "metadata": {},
   "source": [
    "---\n",
    "# Modell 8 - Gradient Boosting Regression\n",
    "\n",
    "Modell 8 ist ein Gradient Boosting Modell."
   ]
  },
  {
   "cell_type": "code",
   "execution_count": 43,
   "metadata": {},
   "outputs": [
    {
     "name": "stdout",
     "output_type": "stream",
     "text": [
      "Fitting 2 folds for each of 4608 candidates, totalling 9216 fits\n"
     ]
    }
   ],
   "source": [
    "# make a gradient boosting regression function with gridsearchCV\n",
    "def gradient_boosting_regression_gridsearchCV(X_train, y_train, X_test, y_test, learning_rate = [0.1], n_estimators = [100], max_depth = [5], min_samples_split = [2], min_samples_leaf = [1], cv = 5, verbose = 1):\n",
    "    '''\n",
    "    This function makes a gradient boosting regression with gridsearchCV\n",
    "\n",
    "    Parameters\n",
    "    ----------\n",
    "    X_train : numpy array\n",
    "        X_train data.\n",
    "    y_train : numpy array\n",
    "        y_train data.\n",
    "    X_test : numpy array\n",
    "        X_test data.\n",
    "    y_test : numpy array\n",
    "        y_test data.\n",
    "    learning_rate : numpy array\n",
    "        learning_rate for the gradient boosting regression.\n",
    "    n_estimators : numpy array\n",
    "        n_estimators for the gradient boosting regression.\n",
    "    max_depth : numpy array\n",
    "        max_depth for the gradient boosting regression.\n",
    "    min_samples_split : numpy array\n",
    "        min_samples_split for the gradient boosting regression.\n",
    "    min_samples_leaf : numpy array\n",
    "        min_samples_leaf for the gradient boosting regression.\n",
    "    cv : int, default=5\n",
    "        Cross-validation fold.\n",
    "    verbose : int, default=1\n",
    "        Controls the verbosity: the higher, the more messages.\n",
    "\n",
    "    Returns\n",
    "    -------\n",
    "    model : object\n",
    "        the best gradient boosting regression fitted model \n",
    "    '''\n",
    "    # create gradient boosting Modell with gridsearch cv\n",
    "    gradient_boosting = GradientBoostingRegressor()\n",
    "\n",
    "    # create parameter grid\n",
    "    param_grid = {\"loss\": [\"squared_error\", \"absolute_error\", \"huber\", \"quantile\"],\n",
    "                  \"learning_rate\": learning_rate,\n",
    "                  \"n_estimators\": n_estimators,\n",
    "                  \"criterion\": [\"friedman_mse\", \"mse\", \"mae\"],\n",
    "                  \"max_depth\": max_depth,\n",
    "                  \"min_samples_split\": min_samples_split,\n",
    "                  \"min_samples_leaf\": min_samples_leaf,\n",
    "                  \"max_features\": [\"auto\", \"sqrt\", \"log2\"],\n",
    "                  \"random_state\": [42],\n",
    "                  # alpha for quantile and huber\n",
    "                  \"alpha\": np.linspace(0, 0.9, 4)\n",
    "                  }\n",
    "\n",
    "    # create gridsearchcv model\n",
    "    gradient_boosting_grid = GridSearchCV(gradient_boosting, param_grid, cv=cv, n_jobs=-1, scoring=\"neg_mean_absolute_percentage_error\", verbose=verbose)\n",
    "\n",
    "    # fit the model\n",
    "    gradient_boosting_grid.fit(X_train, y_train)\n",
    "\n",
    "    # print the best parameters\n",
    "    print(\"Best parameters:\", gradient_boosting_grid.best_params_)\n",
    "\n",
    "    # predict the model\n",
    "    y_pred_gradient_boosting = gradient_boosting_grid.predict(X_test)\n",
    "\n",
    "    # print the mean absolute percentage error\n",
    "    mape_gradient_boosting = mean_absolute_percentage_error(y_test, y_pred_gradient_boosting)\n",
    "\n",
    "    # create plot y vs yhat an draw model line\n",
    "    plt.figure(figsize=(20, 6))\n",
    "    plt.scatter(y_test, y_pred_gradient_boosting, c=\"red\", alpha=0.5)\n",
    "    plt.plot(y_test, y_test, color=\"b\")\n",
    "    plt.grid()\n",
    "    plt.xlabel(\"y\")\n",
    "    plt.ylabel(\"yhat\")\n",
    "    plt.title(\"y_test vs y_pred \\nMAPE: \" + str(np.round(mape_gradient_boosting, 4)) , fontsize = 15, y = 1.03)\n",
    "    plt.show()\n",
    "\n",
    "    return gradient_boosting_grid\n",
    "\n",
    "# call the function\n",
    "gradient_boosting_regression_dev = gradient_boosting_regression_gridsearchCV(X_train_dev, y_train_dev, X_test_dev, y_test_dev,\n",
    "                                                                            learning_rate = np.linspace(0.1, 1, 2, dtype=int),\n",
    "                                                                            n_estimators = np.linspace(100, 1000, 2, dtype=int),\n",
    "                                                                            max_depth = np.linspace(1, 10, 2, dtype=int),\n",
    "                                                                            min_samples_split = np.linspace(2, 10, 2, dtype=int),\n",
    "                                                                            min_samples_leaf = np.linspace(1, 10, 2, dtype=int),\n",
    "                                                                            cv = 2, verbose = 1)\n",
    "                                                                            "
   ]
  },
  {
   "cell_type": "markdown",
   "metadata": {},
   "source": [
    "---\n",
    "# Modell 9 - XGBoost Regression\n",
    "\n",
    "Modell 9 ist ein XGBoost Modell."
   ]
  },
  {
   "cell_type": "code",
   "execution_count": null,
   "metadata": {},
   "outputs": [],
   "source": []
  },
  {
   "cell_type": "markdown",
   "metadata": {},
   "source": [
    "---\n",
    "# Vergleiche der Modelle\n",
    "\n",
    "Hier werden die Modelle miteinander verglichen und tabellerisch sowie visualisiert dargestellt.\n",
    "Dabei dient das Modell 1 - Multiple Linear Model, als Benchmark."
   ]
  },
  {
   "cell_type": "code",
   "execution_count": null,
   "metadata": {},
   "outputs": [],
   "source": [
    "# create a dataframe with the results\n",
    "results = pd.DataFrame({\"Model\": [\"Linear Regression\", \"Decision Tree\", \"Random Forest\", \"Gradient Boosting\"],\n",
    "                        \"Mean absolute percentage error\": [mean_absolute_percentage_error(y_test_dev, y_pred_linear_regression),\n",
    "                                                            \n"
   ]
  },
  {
   "cell_type": "markdown",
   "metadata": {},
   "source": [
    "---\n",
    "# Untersuchung der \"Variable Importance\" für das beste Modell\n",
    "\n",
    "Hier untersuchen wir die \"Variable Importance\" für das beste Modell.\n",
    "Es hat sich herausgestellt, dass die ....."
   ]
  },
  {
   "cell_type": "code",
   "execution_count": null,
   "metadata": {},
   "outputs": [],
   "source": [
    "# CODE"
   ]
  },
  {
   "cell_type": "markdown",
   "metadata": {},
   "source": [
    "---\n",
    "# Fazit\n",
    "\n",
    "Hier schreiben wir unser Fazit."
   ]
  }
 ],
 "metadata": {
  "kernelspec": {
   "display_name": "Python 3",
   "language": "python",
   "name": "python3"
  },
  "language_info": {
   "codemirror_mode": {
    "name": "ipython",
    "version": 3
   },
   "file_extension": ".py",
   "mimetype": "text/x-python",
   "name": "python",
   "nbconvert_exporter": "python",
   "pygments_lexer": "ipython3",
   "version": "3.9.7"
  },
  "orig_nbformat": 4,
  "vscode": {
   "interpreter": {
    "hash": "11938c6bc6919ae2720b4d5011047913343b08a43b18698fd82dedb0d4417594"
   }
  }
 },
 "nbformat": 4,
 "nbformat_minor": 2
}
