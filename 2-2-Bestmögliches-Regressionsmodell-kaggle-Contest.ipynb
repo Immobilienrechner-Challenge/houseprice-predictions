{
 "cells": [
  {
   "cell_type": "markdown",
   "metadata": {},
   "source": [
    "# Bestmögliches Regressionsmodell - kaggle-Contest\n",
    "\n",
    "Challenge: cml1/3Db Immobilienrechner <br/>\n",
    "Team: Alexander Shanmugam, Si Ben Tran, Gabriel Torrez Gamez, Haris Alic <br/>\n",
    "Aufgabe: 2.2 Bestmögliches Regressionsmodell - kaggle-Contest\n",
    "\n",
    "Entwickle mit beliebigen Algorithmen das bestmögliche Modell im Sinne des Mean absolute percentage error (MAPE). Vegleiche dabei mindestens drei algorithmische Ansätze, wobei ein multiples lineares Modell Teil davon sein soll als Benchmark. Untersuche die ‘Variable Importance’ für dein bestes Modell.\n",
    "\n",
    "Abgabe\n",
    "\n",
    "Notebook und daraus erstellter Bericht (ohne Code) als pdf, welche die Entwicklung deines besten Modells, sowie der zwei weiteren Modelle dokumentiert, inklusive verwendeter Features, Preprocessing, Model Selection Prozess und Untersuchung der ‘Variable Importance’.\n",
    "\n",
    "Eingabe der Vorhersage des Preises für den Testdatensatz mit deinem bestmöglichen Modell auf kaggle.\n",
    "\n"
   ]
  },
  {
   "cell_type": "markdown",
   "metadata": {},
   "source": [
    "---\n",
    "# Module importieren\n",
    "\n",
    "Hier in diesem Abschnitt importieren wir die wichtigisten Module, die wir für die weitere Bearbeitung unserer Machine Learning Modelle benötigen, um die Vorhersage des Immobilienpreises zu erstellen."
   ]
  },
  {
   "cell_type": "code",
   "execution_count": 2,
   "metadata": {},
   "outputs": [],
   "source": [
    "# Basic Data Science modules\n",
    "import pandas as pd\n",
    "import numpy as np\n",
    "import matplotlib.pyplot as plt\n",
    "import seaborn as sns\n",
    "\n",
    "# Sklearn modules\n",
    "## linear_model\n",
    "from sklearn.linear_model import LinearRegression\n",
    "\n",
    "## model_selection\n",
    "from sklearn.model_selection import train_test_split, GridSearchCV\n",
    "\n",
    "## metrics\n",
    "from sklearn.metrics import mean_absolute_percentage_error\n"
   ]
  },
  {
   "cell_type": "markdown",
   "metadata": {},
   "source": [
    "---\n",
    "# Daten importieren\n",
    "\n",
    "Hier in diesem Abschnitt importieren wir die Immobilien Daten, die uns Fernando zur Verfügung gestellt hat.\n",
    "\n",
    "v1 ist der von uns bearbeitete und bereinigter Datensatz \n",
    "\n",
    "v2 ist der von Fernando bearbeitete und bereinigter Datensatz "
   ]
  },
  {
   "cell_type": "code",
   "execution_count": 3,
   "metadata": {},
   "outputs": [
    {
     "name": "stderr",
     "output_type": "stream",
     "text": [
      "C:\\Users\\Si Ben Tran\\AppData\\Roaming\\Python\\Python39\\site-packages\\IPython\\core\\interactiveshell.py:3418: DtypeWarning: Columns (6,12) have mixed types.Specify dtype option on import or set low_memory=False.\n",
      "  exec(code_obj, self.user_global_ns, self.user_ns)\n",
      "C:\\Users\\Si Ben Tran\\AppData\\Roaming\\Python\\Python39\\site-packages\\IPython\\core\\interactiveshell.py:3418: DtypeWarning: Columns (3,4,5,6,11,13,14,15,16,17,18,19,20,21,22,23,24,25,26,27,28,29,30,31,32,33,34,35,36,37,38,39,40,41,42,43,45,46,47,49,50,107,110,114,115,116,119,120,121,124,125,126,128,131,132) have mixed types.Specify dtype option on import or set low_memory=False.\n",
      "  exec(code_obj, self.user_global_ns, self.user_ns)\n"
     ]
    }
   ],
   "source": [
    "# url and relative path for the data\n",
    "\n",
    "rel_path_v1 = \"https://raw.githubusercontent.com/Immobilienrechner-Challenge/data/main/clean_gde.csv\"\n",
    "# Clean data einlesen\n",
    "rel_path_v2 = \"../data/immo_data_202208_v2.csv\"\n",
    "\n",
    "# Read data into pandas dataframe\n",
    "raw_df_v1 = pd.read_csv(rel_path_v1, index_col=0)\n",
    "raw_df_v2 = pd.read_csv(rel_path_v2)"
   ]
  },
  {
   "cell_type": "markdown",
   "metadata": {},
   "source": [
    "---\n",
    "# Daten vorbereiten\n",
    "\n",
    "Hier werden die Daten vorbereitet, indem wir die Daten in Trainings- und Validierungsdaten aufteilen.\n",
    "Die Testdaten befinden sich bereits auf der Kaggle Plattform und werden von Fernando zur Verfügung gestellt."
   ]
  },
  {
   "cell_type": "code",
   "execution_count": 4,
   "metadata": {},
   "outputs": [
    {
     "name": "stdout",
     "output_type": "stream",
     "text": [
      "Number of dtypes: float64    54\n",
      "object      2\n",
      "int64       1\n",
      "dtype: int64\n",
      "Dtypes object columns: Index(['canton', 'type'], dtype='object')\n",
      "Shape of df_v1: (21424, 124)\n",
      "Top 10 cols with highest NA values: floor_space                18551\n",
      "plot_area                  16586\n",
      "floor                      15938\n",
      "gde_politics_pda           10206\n",
      "rooms                       8910\n",
      "gde_politics_bdp            8207\n",
      "gde_politics_rights         6156\n",
      "gde_politics_glp            5340\n",
      "gde_politics_evp            4153\n",
      "living_space                1504\n",
      "price                       1031\n",
      "gde_politics_gps             495\n",
      "gde_politics_cvp             334\n",
      "gde_politics_fdp             157\n",
      "gde_politics_sp              102\n",
      "gde_politics_svp              55\n",
      "canton_UR                      0\n",
      "type_Farm house                0\n",
      "canton_SO                      0\n",
      "canton_SZ                      0\n",
      "canton_TG                      0\n",
      "type_Hobby room                0\n",
      "type_Granny flat               0\n",
      "type_Furnished dwelling        0\n",
      "type_Duplex                    0\n",
      "canton_TI                      0\n",
      "type_Chalet                    0\n",
      "type_Cellar compartment        0\n",
      "type_Castle                    0\n",
      "type_Bifamiliar house          0\n",
      "dtype: int64\n"
     ]
    }
   ],
   "source": [
    "# drop the columns municipality, street, street_nr and zip_code\n",
    "df_v1 = raw_df_v1.drop(columns=[\"municipality\", \"street\", \"street_nr\", \"zip_code\", \"availability\"])\n",
    "\n",
    "# count number of dtypes\n",
    "print(\"Number of dtypes:\", df_v1.dtypes.value_counts())\n",
    "\n",
    "# print dtypes object columns\n",
    "print(\"Dtypes object columns:\", df_v1.select_dtypes(include=\"object\").columns)\n",
    "\n",
    "# make one hot encoding for the columns objects\n",
    "df_v1 = pd.get_dummies(df_v1, columns = ['canton', 'type'])\n",
    "\n",
    "# print shape of df_v1\n",
    "print(\"Shape of df_v1:\", df_v1.shape) \n",
    "\n",
    "# get top 10 cols with highest NA values\n",
    "print(\"Top 10 cols with highest NA values:\", df_v1.isna().sum().sort_values(ascending=False).head(30))\n"
   ]
  },
  {
   "cell_type": "markdown",
   "metadata": {},
   "source": [
    "## Daten V1 \n",
    "\n",
    "Hier bearbeiten wir die Daten, die wir anfang 3. Semester erhalten haben."
   ]
  },
  {
   "cell_type": "code",
   "execution_count": 5,
   "metadata": {},
   "outputs": [
    {
     "name": "stdout",
     "output_type": "stream",
     "text": [
      "Shape of X_train_v1:  (17139, 123)\n",
      "Shape of y_train_v1:  (17139,)\n",
      "Shape of X_test_v1:  (4285, 123)\n",
      "Shape of y_test_v1:  (4285,)\n"
     ]
    }
   ],
   "source": [
    "# splitting dataframe into train and test set\n",
    "train_v1, test_v1 = train_test_split(df_v1, test_size=0.2, random_state=42)\n",
    "\n",
    "# splitting train_v1 and test_v1 into X and y \n",
    "X_train_v1 = train_v1.drop(\"price\", axis=1)\n",
    "y_train_v1 = train_v1[\"price\"]\n",
    "\n",
    "X_test_v1 = test_v1.drop(\"price\", axis=1)\n",
    "y_test_v1 = test_v1[\"price\"]\n",
    "\n",
    "# print shape of X_train_v1, y_train_v1, X_test_v1, y_test_v1\n",
    "print(\"Shape of X_train_v1: \", X_train_v1.shape)\n",
    "print(\"Shape of y_train_v1: \", y_train_v1.shape)\n",
    "print(\"Shape of X_test_v1: \", X_test_v1.shape)\n",
    "print(\"Shape of y_test_v1: \", y_test_v1.shape)"
   ]
  },
  {
   "cell_type": "markdown",
   "metadata": {},
   "source": [
    "## Daten V2\n",
    "\n",
    "Hier bearbeiten wir die Daten, die wir von Fernando in der Mitte des Semester (18.11.2022) erhalten haben. <br/>\n",
    "Die Dokumentation der Features ist unter folgenden Link zu finden: [Link](www.gooogle.com)"
   ]
  },
  {
   "cell_type": "code",
   "execution_count": 6,
   "metadata": {},
   "outputs": [],
   "source": [
    "# CODE"
   ]
  },
  {
   "cell_type": "markdown",
   "metadata": {},
   "source": [
    "---\n",
    "# Development Data \n",
    "\n",
    "Um unsere Modelle zu entwickeln, verwenden wir die Development Data fuer das erste. \n",
    "Im Zeiten druchlauf verwenden wir dann unseren Immobilien Datensatz. "
   ]
  },
  {
   "cell_type": "code",
   "execution_count": 12,
   "metadata": {},
   "outputs": [
    {
     "name": "stdout",
     "output_type": "stream",
     "text": [
      "Shape of X_train:  (800, 9)\n",
      "Shape of y_train:  (800,)\n",
      "Shape of X_test:  (200, 9)\n",
      "Shape of y_test:  (200,)\n"
     ]
    }
   ],
   "source": [
    "# Development data set\n",
    "\n",
    "# Generate random DataFrame x1, x2, x3, y1\n",
    "df = pd.DataFrame(np.random.randint(0, 1000, size=(1000, 10)), columns=list('ABCEFGHIJD'))\n",
    "\n",
    "# split into train and test set\n",
    "train_dev, test_dev = train_test_split(df, test_size=0.2, random_state=42)\n",
    "\n",
    "# split train and test set into X and y\n",
    "X_train_dev = train_dev.drop(\"D\", axis=1)\n",
    "y_train_dev = train_dev[\"D\"]\n",
    "\n",
    "X_test_dev = test_dev.drop(\"D\", axis=1)\n",
    "y_test_dev = test_dev[\"D\"]\n",
    "\n",
    "# print shape of X_train, y_train, X_test, y_test\n",
    "print(\"Shape of X_train: \", X_train_dev.shape)\n",
    "print(\"Shape of y_train: \", y_train_dev.shape)\n",
    "print(\"Shape of X_test: \", X_test_dev.shape)\n",
    "print(\"Shape of y_test: \", y_test_dev.shape)\n"
   ]
  },
  {
   "cell_type": "markdown",
   "metadata": {},
   "source": [
    "---\n",
    "# Modell 1 - Multiple Lineare Model \n",
    "\n",
    "Modell 1 ist ein multiples lineares Modell, welches wir als Benchmark für die weiteren Modelle verwenden werden. Wir haben uns für dieses Modell entschieden, da es ein einfaches Modell ist, welches wir schnell erstellen können und es uns ermöglicht, die Vorhersage des Preises zu erstellen."
   ]
  },
  {
   "cell_type": "code",
   "execution_count": 13,
   "metadata": {},
   "outputs": [],
   "source": [
    "# CODE"
   ]
  },
  {
   "cell_type": "markdown",
   "metadata": {},
   "source": [
    "---\n",
    "# Modell 2 - Lasso Regression\n",
    "\n",
    "Modell 2 ist ein multiples lineares Lasso Modell. "
   ]
  },
  {
   "cell_type": "code",
   "execution_count": null,
   "metadata": {},
   "outputs": [],
   "source": [
    "# CODE"
   ]
  },
  {
   "cell_type": "markdown",
   "metadata": {},
   "source": [
    "---\n",
    "# Modell 3 - Ridge Regression\n",
    "\n",
    "Modell 3 ist ein multiples lineares Ridge Modell."
   ]
  },
  {
   "cell_type": "code",
   "execution_count": null,
   "metadata": {},
   "outputs": [],
   "source": [
    "# CODE"
   ]
  },
  {
   "cell_type": "markdown",
   "metadata": {},
   "source": [
    "---\n",
    "# Modell 4 - Elastic Net Regression\n",
    "\n",
    "Modell 4 ist ein multiples lineares Elastic Net Modell."
   ]
  },
  {
   "cell_type": "code",
   "execution_count": null,
   "metadata": {},
   "outputs": [],
   "source": [
    "# CODE"
   ]
  },
  {
   "cell_type": "markdown",
   "metadata": {},
   "source": [
    "---\n",
    "# Modell 5 - KNN Regression\n",
    "\n",
    "Modell 5 ist ein KNN Modell."
   ]
  },
  {
   "cell_type": "code",
   "execution_count": null,
   "metadata": {},
   "outputs": [],
   "source": [
    "# Code"
   ]
  },
  {
   "cell_type": "markdown",
   "metadata": {},
   "source": [
    "---\n",
    "# Modell 6 - Decision Tree Regression\n",
    "\n",
    "Modell 6 ist ein Decision Tree Modell."
   ]
  },
  {
   "cell_type": "code",
   "execution_count": null,
   "metadata": {},
   "outputs": [],
   "source": [
    "# CODE"
   ]
  },
  {
   "cell_type": "markdown",
   "metadata": {},
   "source": [
    "---\n",
    "# Modell 7 - Random Forest Regression\n",
    "\n",
    "Modell 7 ist ein Random Forest Modell."
   ]
  },
  {
   "cell_type": "code",
   "execution_count": 5,
   "metadata": {},
   "outputs": [],
   "source": [
    "# CODE"
   ]
  },
  {
   "cell_type": "markdown",
   "metadata": {},
   "source": [
    "---\n",
    "# Modell 8 - Gradient Boosting Regression\n",
    "\n",
    "Modell 8 ist ein Gradient Boosting Modell."
   ]
  },
  {
   "cell_type": "code",
   "execution_count": 6,
   "metadata": {},
   "outputs": [],
   "source": [
    "# CODE"
   ]
  },
  {
   "cell_type": "markdown",
   "metadata": {},
   "source": [
    "---\n",
    "# Modell 9 - XGBoost Regression\n",
    "\n",
    "Modell 9 ist ein XGBoost Modell."
   ]
  },
  {
   "cell_type": "code",
   "execution_count": null,
   "metadata": {},
   "outputs": [],
   "source": [
    "# CODE"
   ]
  },
  {
   "cell_type": "markdown",
   "metadata": {},
   "source": [
    "---\n",
    "# Vergleiche der Modelle\n",
    "\n",
    "Hier werden die Modelle miteinander verglichen und tabellerisch sowie visualisiert dargestellt.\n",
    "Dabei dient das Modell 1 - Multiple Linear Model, als Benchmark."
   ]
  },
  {
   "cell_type": "code",
   "execution_count": null,
   "metadata": {},
   "outputs": [],
   "source": [
    "# CODE"
   ]
  },
  {
   "cell_type": "markdown",
   "metadata": {},
   "source": [
    "---\n",
    "# Untersuchung der \"Variable Importance\" für das beste Modell\n",
    "\n",
    "Hier untersuchen wir die \"Variable Importance\" für das beste Modell.\n",
    "Es hat sich herausgestellt, dass die ....."
   ]
  },
  {
   "cell_type": "code",
   "execution_count": null,
   "metadata": {},
   "outputs": [],
   "source": [
    "# CODE"
   ]
  },
  {
   "cell_type": "markdown",
   "metadata": {},
   "source": [
    "---\n",
    "# Fazit\n",
    "\n",
    "Hier schreiben wir unser Fazit."
   ]
  }
 ],
 "metadata": {
  "kernelspec": {
   "display_name": "Python 3.9.7 64-bit",
   "language": "python",
   "name": "python3"
  },
  "language_info": {
   "codemirror_mode": {
    "name": "ipython",
    "version": 3
   },
   "file_extension": ".py",
   "mimetype": "text/x-python",
   "name": "python",
   "nbconvert_exporter": "python",
   "pygments_lexer": "ipython3",
   "version": "3.9.7"
  },
  "orig_nbformat": 4,
  "vscode": {
   "interpreter": {
    "hash": "11938c6bc6919ae2720b4d5011047913343b08a43b18698fd82dedb0d4417594"
   }
  }
 },
 "nbformat": 4,
 "nbformat_minor": 2
}
