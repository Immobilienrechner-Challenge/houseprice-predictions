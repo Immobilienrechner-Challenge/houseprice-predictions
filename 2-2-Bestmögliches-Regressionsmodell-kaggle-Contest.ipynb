{
 "cells": [
  {
   "cell_type": "markdown",
   "metadata": {},
   "source": [
    "# Bestmögliches Regressionsmodell - kaggle-Contest\n",
    "\n",
    "Challenge: cml1/3Db Immobilienrechner <br/>\n",
    "Team: Alexander Shanmugam, Si Ben Tran, Gabriel Torrez Gamez, Haris Alic <br/>\n",
    "Aufgabe: 2.2 Bestmögliches Regressionsmodell - kaggle-Contest\n",
    "\n",
    "Entwickle mit beliebigen Algorithmen das bestmögliche Modell im Sinne des Mean absolute percentage error (MAPE). Vegleiche dabei mindestens drei algorithmische Ansätze, wobei ein multiples lineares Modell Teil davon sein soll als Benchmark. Untersuche die ‘Variable Importance’ für dein bestes Modell.\n",
    "\n",
    "Abgabe\n",
    "\n",
    "Notebook und daraus erstellter Bericht (ohne Code) als pdf, welche die Entwicklung deines besten Modells, sowie der zwei weiteren Modelle dokumentiert, inklusive verwendeter Features, Preprocessing, Model Selection Prozess und Untersuchung der ‘Variable Importance’.\n",
    "\n",
    "Eingabe der Vorhersage des Preises für den Testdatensatz mit deinem bestmöglichen Modell auf kaggle.\n",
    "\n"
   ]
  },
  {
   "cell_type": "markdown",
   "metadata": {},
   "source": [
    "---\n",
    "# Module importieren\n",
    "\n",
    "Hier in diesem Abschnitt importieren wir die wichtigisten Module, die wir für die weitere Bearbeitung unserer Machine Learning Modelle benötigen, um die Vorhersage des Immobilienpreises zu erstellen."
   ]
  },
  {
   "cell_type": "code",
   "execution_count": 72,
   "metadata": {},
   "outputs": [],
   "source": [
    "# Basic Data Science modules\n",
    "import pandas as pd\n",
    "import numpy as np\n",
    "import matplotlib.pyplot as plt\n",
    "import seaborn as sns\n",
    "\n",
    "# Sklearn modules\n",
    "## linear_model\n",
    "from sklearn.linear_model import LinearRegression, Lasso, Ridge, ElasticNet\n",
    "\n",
    "## neighbors\n",
    "from sklearn.neighbors import KNeighborsRegressor\n",
    "\n",
    "## tree\n",
    "from sklearn.tree import DecisionTreeRegressor\n",
    "\n",
    "## ensemble\n",
    "from sklearn.ensemble import RandomForestRegressor, GradientBoostingRegressor, AdaBoostRegressor\n",
    "\n",
    "## model_selection\n",
    "from sklearn.model_selection import train_test_split, GridSearchCV\n",
    "\n",
    "## metrics\n",
    "from sklearn.metrics import mean_absolute_percentage_error\n",
    "\n",
    "# xgboost\n",
    "import xgboost as XGBRegressor\n",
    "\n"
   ]
  },
  {
   "cell_type": "markdown",
   "metadata": {},
   "source": [
    "---\n",
    "# Daten importieren\n",
    "\n",
    "Hier in diesem Abschnitt importieren wir die Immobilien Daten, die uns Fernando zur Verfügung gestellt hat.\n",
    "\n",
    "v1 ist der von uns bearbeitete und bereinigter Datensatz \n",
    "\n",
    "v2 ist der von Fernando bearbeitete und bereinigter Datensatz "
   ]
  },
  {
   "cell_type": "code",
   "execution_count": 2,
   "metadata": {},
   "outputs": [
    {
     "name": "stderr",
     "output_type": "stream",
     "text": [
      "C:\\Users\\Ben\\AppData\\Roaming\\Python\\Python39\\site-packages\\IPython\\core\\interactiveshell.py:3441: DtypeWarning: Columns (6,12) have mixed types.Specify dtype option on import or set low_memory=False.\n",
      "  exec(code_obj, self.user_global_ns, self.user_ns)\n"
     ]
    },
    {
     "ename": "FileNotFoundError",
     "evalue": "[Errno 2] No such file or directory: '../data/immo_data_202208_v2.csv'",
     "output_type": "error",
     "traceback": [
      "\u001b[1;31m---------------------------------------------------------------------------\u001b[0m",
      "\u001b[1;31mFileNotFoundError\u001b[0m                         Traceback (most recent call last)",
      "\u001b[1;32m~\\AppData\\Local\\Temp/ipykernel_13420/114010544.py\u001b[0m in \u001b[0;36m<module>\u001b[1;34m\u001b[0m\n\u001b[0;32m      7\u001b[0m \u001b[1;31m# Read data into pandas dataframe\u001b[0m\u001b[1;33m\u001b[0m\u001b[1;33m\u001b[0m\u001b[0m\n\u001b[0;32m      8\u001b[0m \u001b[0mraw_df_v1\u001b[0m \u001b[1;33m=\u001b[0m \u001b[0mpd\u001b[0m\u001b[1;33m.\u001b[0m\u001b[0mread_csv\u001b[0m\u001b[1;33m(\u001b[0m\u001b[0mrel_path_v1\u001b[0m\u001b[1;33m,\u001b[0m \u001b[0mindex_col\u001b[0m\u001b[1;33m=\u001b[0m\u001b[1;36m0\u001b[0m\u001b[1;33m)\u001b[0m\u001b[1;33m\u001b[0m\u001b[1;33m\u001b[0m\u001b[0m\n\u001b[1;32m----> 9\u001b[1;33m \u001b[0mraw_df_v2\u001b[0m \u001b[1;33m=\u001b[0m \u001b[0mpd\u001b[0m\u001b[1;33m.\u001b[0m\u001b[0mread_csv\u001b[0m\u001b[1;33m(\u001b[0m\u001b[0mrel_path_v2\u001b[0m\u001b[1;33m)\u001b[0m\u001b[1;33m\u001b[0m\u001b[1;33m\u001b[0m\u001b[0m\n\u001b[0m",
      "\u001b[1;32m~\\AppData\\Roaming\\Python\\Python39\\site-packages\\pandas\\util\\_decorators.py\u001b[0m in \u001b[0;36mwrapper\u001b[1;34m(*args, **kwargs)\u001b[0m\n\u001b[0;32m    309\u001b[0m                     \u001b[0mstacklevel\u001b[0m\u001b[1;33m=\u001b[0m\u001b[0mstacklevel\u001b[0m\u001b[1;33m,\u001b[0m\u001b[1;33m\u001b[0m\u001b[1;33m\u001b[0m\u001b[0m\n\u001b[0;32m    310\u001b[0m                 )\n\u001b[1;32m--> 311\u001b[1;33m             \u001b[1;32mreturn\u001b[0m \u001b[0mfunc\u001b[0m\u001b[1;33m(\u001b[0m\u001b[1;33m*\u001b[0m\u001b[0margs\u001b[0m\u001b[1;33m,\u001b[0m \u001b[1;33m**\u001b[0m\u001b[0mkwargs\u001b[0m\u001b[1;33m)\u001b[0m\u001b[1;33m\u001b[0m\u001b[1;33m\u001b[0m\u001b[0m\n\u001b[0m\u001b[0;32m    312\u001b[0m \u001b[1;33m\u001b[0m\u001b[0m\n\u001b[0;32m    313\u001b[0m         \u001b[1;32mreturn\u001b[0m \u001b[0mwrapper\u001b[0m\u001b[1;33m\u001b[0m\u001b[1;33m\u001b[0m\u001b[0m\n",
      "\u001b[1;32m~\\AppData\\Roaming\\Python\\Python39\\site-packages\\pandas\\io\\parsers\\readers.py\u001b[0m in \u001b[0;36mread_csv\u001b[1;34m(filepath_or_buffer, sep, delimiter, header, names, index_col, usecols, squeeze, prefix, mangle_dupe_cols, dtype, engine, converters, true_values, false_values, skipinitialspace, skiprows, skipfooter, nrows, na_values, keep_default_na, na_filter, verbose, skip_blank_lines, parse_dates, infer_datetime_format, keep_date_col, date_parser, dayfirst, cache_dates, iterator, chunksize, compression, thousands, decimal, lineterminator, quotechar, quoting, doublequote, escapechar, comment, encoding, encoding_errors, dialect, error_bad_lines, warn_bad_lines, on_bad_lines, delim_whitespace, low_memory, memory_map, float_precision, storage_options)\u001b[0m\n\u001b[0;32m    584\u001b[0m     \u001b[0mkwds\u001b[0m\u001b[1;33m.\u001b[0m\u001b[0mupdate\u001b[0m\u001b[1;33m(\u001b[0m\u001b[0mkwds_defaults\u001b[0m\u001b[1;33m)\u001b[0m\u001b[1;33m\u001b[0m\u001b[1;33m\u001b[0m\u001b[0m\n\u001b[0;32m    585\u001b[0m \u001b[1;33m\u001b[0m\u001b[0m\n\u001b[1;32m--> 586\u001b[1;33m     \u001b[1;32mreturn\u001b[0m \u001b[0m_read\u001b[0m\u001b[1;33m(\u001b[0m\u001b[0mfilepath_or_buffer\u001b[0m\u001b[1;33m,\u001b[0m \u001b[0mkwds\u001b[0m\u001b[1;33m)\u001b[0m\u001b[1;33m\u001b[0m\u001b[1;33m\u001b[0m\u001b[0m\n\u001b[0m\u001b[0;32m    587\u001b[0m \u001b[1;33m\u001b[0m\u001b[0m\n\u001b[0;32m    588\u001b[0m \u001b[1;33m\u001b[0m\u001b[0m\n",
      "\u001b[1;32m~\\AppData\\Roaming\\Python\\Python39\\site-packages\\pandas\\io\\parsers\\readers.py\u001b[0m in \u001b[0;36m_read\u001b[1;34m(filepath_or_buffer, kwds)\u001b[0m\n\u001b[0;32m    480\u001b[0m \u001b[1;33m\u001b[0m\u001b[0m\n\u001b[0;32m    481\u001b[0m     \u001b[1;31m# Create the parser.\u001b[0m\u001b[1;33m\u001b[0m\u001b[1;33m\u001b[0m\u001b[0m\n\u001b[1;32m--> 482\u001b[1;33m     \u001b[0mparser\u001b[0m \u001b[1;33m=\u001b[0m \u001b[0mTextFileReader\u001b[0m\u001b[1;33m(\u001b[0m\u001b[0mfilepath_or_buffer\u001b[0m\u001b[1;33m,\u001b[0m \u001b[1;33m**\u001b[0m\u001b[0mkwds\u001b[0m\u001b[1;33m)\u001b[0m\u001b[1;33m\u001b[0m\u001b[1;33m\u001b[0m\u001b[0m\n\u001b[0m\u001b[0;32m    483\u001b[0m \u001b[1;33m\u001b[0m\u001b[0m\n\u001b[0;32m    484\u001b[0m     \u001b[1;32mif\u001b[0m \u001b[0mchunksize\u001b[0m \u001b[1;32mor\u001b[0m \u001b[0miterator\u001b[0m\u001b[1;33m:\u001b[0m\u001b[1;33m\u001b[0m\u001b[1;33m\u001b[0m\u001b[0m\n",
      "\u001b[1;32m~\\AppData\\Roaming\\Python\\Python39\\site-packages\\pandas\\io\\parsers\\readers.py\u001b[0m in \u001b[0;36m__init__\u001b[1;34m(self, f, engine, **kwds)\u001b[0m\n\u001b[0;32m    809\u001b[0m             \u001b[0mself\u001b[0m\u001b[1;33m.\u001b[0m\u001b[0moptions\u001b[0m\u001b[1;33m[\u001b[0m\u001b[1;34m\"has_index_names\"\u001b[0m\u001b[1;33m]\u001b[0m \u001b[1;33m=\u001b[0m \u001b[0mkwds\u001b[0m\u001b[1;33m[\u001b[0m\u001b[1;34m\"has_index_names\"\u001b[0m\u001b[1;33m]\u001b[0m\u001b[1;33m\u001b[0m\u001b[1;33m\u001b[0m\u001b[0m\n\u001b[0;32m    810\u001b[0m \u001b[1;33m\u001b[0m\u001b[0m\n\u001b[1;32m--> 811\u001b[1;33m         \u001b[0mself\u001b[0m\u001b[1;33m.\u001b[0m\u001b[0m_engine\u001b[0m \u001b[1;33m=\u001b[0m \u001b[0mself\u001b[0m\u001b[1;33m.\u001b[0m\u001b[0m_make_engine\u001b[0m\u001b[1;33m(\u001b[0m\u001b[0mself\u001b[0m\u001b[1;33m.\u001b[0m\u001b[0mengine\u001b[0m\u001b[1;33m)\u001b[0m\u001b[1;33m\u001b[0m\u001b[1;33m\u001b[0m\u001b[0m\n\u001b[0m\u001b[0;32m    812\u001b[0m \u001b[1;33m\u001b[0m\u001b[0m\n\u001b[0;32m    813\u001b[0m     \u001b[1;32mdef\u001b[0m \u001b[0mclose\u001b[0m\u001b[1;33m(\u001b[0m\u001b[0mself\u001b[0m\u001b[1;33m)\u001b[0m\u001b[1;33m:\u001b[0m\u001b[1;33m\u001b[0m\u001b[1;33m\u001b[0m\u001b[0m\n",
      "\u001b[1;32m~\\AppData\\Roaming\\Python\\Python39\\site-packages\\pandas\\io\\parsers\\readers.py\u001b[0m in \u001b[0;36m_make_engine\u001b[1;34m(self, engine)\u001b[0m\n\u001b[0;32m   1038\u001b[0m             )\n\u001b[0;32m   1039\u001b[0m         \u001b[1;31m# error: Too many arguments for \"ParserBase\"\u001b[0m\u001b[1;33m\u001b[0m\u001b[1;33m\u001b[0m\u001b[0m\n\u001b[1;32m-> 1040\u001b[1;33m         \u001b[1;32mreturn\u001b[0m \u001b[0mmapping\u001b[0m\u001b[1;33m[\u001b[0m\u001b[0mengine\u001b[0m\u001b[1;33m]\u001b[0m\u001b[1;33m(\u001b[0m\u001b[0mself\u001b[0m\u001b[1;33m.\u001b[0m\u001b[0mf\u001b[0m\u001b[1;33m,\u001b[0m \u001b[1;33m**\u001b[0m\u001b[0mself\u001b[0m\u001b[1;33m.\u001b[0m\u001b[0moptions\u001b[0m\u001b[1;33m)\u001b[0m  \u001b[1;31m# type: ignore[call-arg]\u001b[0m\u001b[1;33m\u001b[0m\u001b[1;33m\u001b[0m\u001b[0m\n\u001b[0m\u001b[0;32m   1041\u001b[0m \u001b[1;33m\u001b[0m\u001b[0m\n\u001b[0;32m   1042\u001b[0m     \u001b[1;32mdef\u001b[0m \u001b[0m_failover_to_python\u001b[0m\u001b[1;33m(\u001b[0m\u001b[0mself\u001b[0m\u001b[1;33m)\u001b[0m\u001b[1;33m:\u001b[0m\u001b[1;33m\u001b[0m\u001b[1;33m\u001b[0m\u001b[0m\n",
      "\u001b[1;32m~\\AppData\\Roaming\\Python\\Python39\\site-packages\\pandas\\io\\parsers\\c_parser_wrapper.py\u001b[0m in \u001b[0;36m__init__\u001b[1;34m(self, src, **kwds)\u001b[0m\n\u001b[0;32m     49\u001b[0m \u001b[1;33m\u001b[0m\u001b[0m\n\u001b[0;32m     50\u001b[0m         \u001b[1;31m# open handles\u001b[0m\u001b[1;33m\u001b[0m\u001b[1;33m\u001b[0m\u001b[0m\n\u001b[1;32m---> 51\u001b[1;33m         \u001b[0mself\u001b[0m\u001b[1;33m.\u001b[0m\u001b[0m_open_handles\u001b[0m\u001b[1;33m(\u001b[0m\u001b[0msrc\u001b[0m\u001b[1;33m,\u001b[0m \u001b[0mkwds\u001b[0m\u001b[1;33m)\u001b[0m\u001b[1;33m\u001b[0m\u001b[1;33m\u001b[0m\u001b[0m\n\u001b[0m\u001b[0;32m     52\u001b[0m         \u001b[1;32massert\u001b[0m \u001b[0mself\u001b[0m\u001b[1;33m.\u001b[0m\u001b[0mhandles\u001b[0m \u001b[1;32mis\u001b[0m \u001b[1;32mnot\u001b[0m \u001b[1;32mNone\u001b[0m\u001b[1;33m\u001b[0m\u001b[1;33m\u001b[0m\u001b[0m\n\u001b[0;32m     53\u001b[0m \u001b[1;33m\u001b[0m\u001b[0m\n",
      "\u001b[1;32m~\\AppData\\Roaming\\Python\\Python39\\site-packages\\pandas\\io\\parsers\\base_parser.py\u001b[0m in \u001b[0;36m_open_handles\u001b[1;34m(self, src, kwds)\u001b[0m\n\u001b[0;32m    220\u001b[0m         \u001b[0mLet\u001b[0m \u001b[0mthe\u001b[0m \u001b[0mreaders\u001b[0m \u001b[0mopen\u001b[0m \u001b[0mIOHandles\u001b[0m \u001b[0mafter\u001b[0m \u001b[0mthey\u001b[0m \u001b[0mare\u001b[0m \u001b[0mdone\u001b[0m \u001b[1;32mwith\u001b[0m \u001b[0mtheir\u001b[0m \u001b[0mpotential\u001b[0m \u001b[0mraises\u001b[0m\u001b[1;33m.\u001b[0m\u001b[1;33m\u001b[0m\u001b[1;33m\u001b[0m\u001b[0m\n\u001b[0;32m    221\u001b[0m         \"\"\"\n\u001b[1;32m--> 222\u001b[1;33m         self.handles = get_handle(\n\u001b[0m\u001b[0;32m    223\u001b[0m             \u001b[0msrc\u001b[0m\u001b[1;33m,\u001b[0m\u001b[1;33m\u001b[0m\u001b[1;33m\u001b[0m\u001b[0m\n\u001b[0;32m    224\u001b[0m             \u001b[1;34m\"r\"\u001b[0m\u001b[1;33m,\u001b[0m\u001b[1;33m\u001b[0m\u001b[1;33m\u001b[0m\u001b[0m\n",
      "\u001b[1;32m~\\AppData\\Roaming\\Python\\Python39\\site-packages\\pandas\\io\\common.py\u001b[0m in \u001b[0;36mget_handle\u001b[1;34m(path_or_buf, mode, encoding, compression, memory_map, is_text, errors, storage_options)\u001b[0m\n\u001b[0;32m    700\u001b[0m         \u001b[1;32mif\u001b[0m \u001b[0mioargs\u001b[0m\u001b[1;33m.\u001b[0m\u001b[0mencoding\u001b[0m \u001b[1;32mand\u001b[0m \u001b[1;34m\"b\"\u001b[0m \u001b[1;32mnot\u001b[0m \u001b[1;32min\u001b[0m \u001b[0mioargs\u001b[0m\u001b[1;33m.\u001b[0m\u001b[0mmode\u001b[0m\u001b[1;33m:\u001b[0m\u001b[1;33m\u001b[0m\u001b[1;33m\u001b[0m\u001b[0m\n\u001b[0;32m    701\u001b[0m             \u001b[1;31m# Encoding\u001b[0m\u001b[1;33m\u001b[0m\u001b[1;33m\u001b[0m\u001b[0m\n\u001b[1;32m--> 702\u001b[1;33m             handle = open(\n\u001b[0m\u001b[0;32m    703\u001b[0m                 \u001b[0mhandle\u001b[0m\u001b[1;33m,\u001b[0m\u001b[1;33m\u001b[0m\u001b[1;33m\u001b[0m\u001b[0m\n\u001b[0;32m    704\u001b[0m                 \u001b[0mioargs\u001b[0m\u001b[1;33m.\u001b[0m\u001b[0mmode\u001b[0m\u001b[1;33m,\u001b[0m\u001b[1;33m\u001b[0m\u001b[1;33m\u001b[0m\u001b[0m\n",
      "\u001b[1;31mFileNotFoundError\u001b[0m: [Errno 2] No such file or directory: '../data/immo_data_202208_v2.csv'"
     ]
    }
   ],
   "source": [
    "# url and relative path for the data\n",
    "\n",
    "rel_path_v1 = \"https://raw.githubusercontent.com/Immobilienrechner-Challenge/data/main/clean_gde.csv\"\n",
    "# Clean data einlesen\n",
    "rel_path_v2 = \"../data/immo_data_202208_v2.csv\"\n",
    "\n",
    "# Read data into pandas dataframe\n",
    "raw_df_v1 = pd.read_csv(rel_path_v1, index_col=0)\n",
    "raw_df_v2 = pd.read_csv(rel_path_v2)"
   ]
  },
  {
   "cell_type": "markdown",
   "metadata": {},
   "source": [
    "---\n",
    "# Daten vorbereiten\n",
    "\n",
    "Hier werden die Daten vorbereitet, indem wir die Daten in Trainings- und Validierungsdaten aufteilen.\n",
    "Die Testdaten befinden sich bereits auf der Kaggle Plattform und werden von Fernando zur Verfügung gestellt."
   ]
  },
  {
   "cell_type": "code",
   "execution_count": null,
   "metadata": {},
   "outputs": [
    {
     "name": "stdout",
     "output_type": "stream",
     "text": [
      "Number of dtypes: float64    54\n",
      "object      2\n",
      "int64       1\n",
      "dtype: int64\n",
      "Dtypes object columns: Index(['canton', 'type'], dtype='object')\n",
      "Shape of df_v1: (21424, 124)\n",
      "Top 10 cols with highest NA values: floor_space                18551\n",
      "plot_area                  16586\n",
      "floor                      15938\n",
      "gde_politics_pda           10206\n",
      "rooms                       8910\n",
      "gde_politics_bdp            8207\n",
      "gde_politics_rights         6156\n",
      "gde_politics_glp            5340\n",
      "gde_politics_evp            4153\n",
      "living_space                1504\n",
      "price                       1031\n",
      "gde_politics_gps             495\n",
      "gde_politics_cvp             334\n",
      "gde_politics_fdp             157\n",
      "gde_politics_sp              102\n",
      "gde_politics_svp              55\n",
      "canton_UR                      0\n",
      "type_Farm house                0\n",
      "canton_SO                      0\n",
      "canton_SZ                      0\n",
      "canton_TG                      0\n",
      "type_Hobby room                0\n",
      "type_Granny flat               0\n",
      "type_Furnished dwelling        0\n",
      "type_Duplex                    0\n",
      "canton_TI                      0\n",
      "type_Chalet                    0\n",
      "type_Cellar compartment        0\n",
      "type_Castle                    0\n",
      "type_Bifamiliar house          0\n",
      "dtype: int64\n"
     ]
    }
   ],
   "source": [
    "# drop the columns municipality, street, street_nr and zip_code\n",
    "df_v1 = raw_df_v1.drop(columns=[\"municipality\", \"street\", \"street_nr\", \"zip_code\", \"availability\"])\n",
    "\n",
    "# count number of dtypes\n",
    "print(\"Number of dtypes:\", df_v1.dtypes.value_counts())\n",
    "\n",
    "# print dtypes object columns\n",
    "print(\"Dtypes object columns:\", df_v1.select_dtypes(include=\"object\").columns)\n",
    "\n",
    "# make one hot encoding for the columns objects\n",
    "df_v1 = pd.get_dummies(df_v1, columns = ['canton', 'type'])\n",
    "\n",
    "# print shape of df_v1\n",
    "print(\"Shape of df_v1:\", df_v1.shape) \n",
    "\n",
    "# get top 10 cols with highest NA values\n",
    "print(\"Top 10 cols with highest NA values:\", df_v1.isna().sum().sort_values(ascending=False).head(30))\n"
   ]
  },
  {
   "cell_type": "markdown",
   "metadata": {},
   "source": [
    "## Daten V1 \n",
    "\n",
    "Hier bearbeiten wir die Daten, die wir anfang 3. Semester erhalten haben."
   ]
  },
  {
   "cell_type": "code",
   "execution_count": null,
   "metadata": {},
   "outputs": [
    {
     "name": "stdout",
     "output_type": "stream",
     "text": [
      "Shape of X_train_v1:  (17139, 123)\n",
      "Shape of y_train_v1:  (17139,)\n",
      "Shape of X_test_v1:  (4285, 123)\n",
      "Shape of y_test_v1:  (4285,)\n"
     ]
    }
   ],
   "source": [
    "# splitting dataframe into train and test set\n",
    "train_v1, test_v1 = train_test_split(df_v1, test_size=0.2, random_state=42)\n",
    "\n",
    "# splitting train_v1 and test_v1 into X and y \n",
    "X_train_v1 = train_v1.drop(\"price\", axis=1)\n",
    "y_train_v1 = train_v1[\"price\"]\n",
    "\n",
    "X_test_v1 = test_v1.drop(\"price\", axis=1)\n",
    "y_test_v1 = test_v1[\"price\"]\n",
    "\n",
    "# print shape of X_train_v1, y_train_v1, X_test_v1, y_test_v1\n",
    "print(\"Shape of X_train_v1: \", X_train_v1.shape)\n",
    "print(\"Shape of y_train_v1: \", y_train_v1.shape)\n",
    "print(\"Shape of X_test_v1: \", X_test_v1.shape)\n",
    "print(\"Shape of y_test_v1: \", y_test_v1.shape)"
   ]
  },
  {
   "cell_type": "markdown",
   "metadata": {},
   "source": [
    "## Daten V2\n",
    "\n",
    "Hier bearbeiten wir die Daten, die wir von Fernando in der Mitte des Semester (18.11.2022) erhalten haben. <br/>\n",
    "Die Dokumentation der Features ist unter folgenden Link zu finden: [Link](www.gooogle.com)"
   ]
  },
  {
   "cell_type": "code",
   "execution_count": null,
   "metadata": {},
   "outputs": [],
   "source": [
    "# CODE"
   ]
  },
  {
   "cell_type": "markdown",
   "metadata": {},
   "source": [
    "---\n",
    "# Development Data \n",
    "\n",
    "Um unsere Modelle zu entwickeln, verwenden wir die Development Data fuer das erste. \n",
    "Im Zeiten druchlauf verwenden wir dann unseren Immobilien Datensatz. "
   ]
  },
  {
   "cell_type": "code",
   "execution_count": 30,
   "metadata": {},
   "outputs": [
    {
     "name": "stdout",
     "output_type": "stream",
     "text": [
      "Shape of X_train:  (800, 10)\n",
      "Shape of y_train:  (800,)\n",
      "Shape of X_test:  (200, 10)\n",
      "Shape of y_test:  (200,)\n"
     ]
    }
   ],
   "source": [
    "# create sklearn regression dataset\n",
    "from sklearn.datasets import make_regression\n",
    "\n",
    "# create regression dataset\n",
    "X, y = make_regression(n_samples=1000, n_features=10, n_informative=5, noise=0.5, random_state=1)\n",
    "\n",
    "# split into train and test set\n",
    "X_train_dev, X_test_dev, y_train_dev, y_test_dev = train_test_split(X, y, test_size=0.2, random_state=1)\n",
    "\n",
    "# print shape of X_train, y_train, X_test, y_test\n",
    "print(\"Shape of X_train: \", X_train_dev.shape)\n",
    "print(\"Shape of y_train: \", y_train_dev.shape)\n",
    "print(\"Shape of X_test: \", X_test_dev.shape)\n",
    "print(\"Shape of y_test: \", y_test_dev.shape)\n"
   ]
  },
  {
   "cell_type": "markdown",
   "metadata": {},
   "source": [
    "---\n",
    "# Modell 1 - Multiple Lineare Model \n",
    "\n",
    "Modell 1 ist ein multiples lineares Modell, welches wir als Benchmark für die weiteren Modelle verwenden werden. Wir haben uns für dieses Modell entschieden, da es ein einfaches Modell ist, welches wir schnell erstellen können und es uns ermöglicht, die Vorhersage des Preises zu erstellen."
   ]
  },
  {
   "cell_type": "code",
   "execution_count": 31,
   "metadata": {},
   "outputs": [
    {
     "name": "stdout",
     "output_type": "stream",
     "text": [
      "Mean absolute percentage error: 0.013797221050468274\n",
      "Score: 0.999985814977199\n"
     ]
    }
   ],
   "source": [
    "# linear Regression\n",
    "lr = LinearRegression()\n",
    "\n",
    "# fit the model\n",
    "lr.fit(X_train_dev, y_train_dev)\n",
    "\n",
    "# predict the model\n",
    "y_pred = lr.predict(X_test_dev)\n",
    "\n",
    "# print the mean absolute percentage error\n",
    "print(\"Mean absolute percentage error:\", mean_absolute_percentage_error(y_test_dev, y_pred))\n",
    "\n",
    "# print the score\n",
    "print(\"Score:\", lr.score(X_test_dev, y_test_dev))\n"
   ]
  },
  {
   "cell_type": "markdown",
   "metadata": {},
   "source": [
    "---\n",
    "# Modell 2 - Lasso Regression\n",
    "\n",
    "Modell 2 ist ein multiples lineares Lasso Modell. "
   ]
  },
  {
   "cell_type": "code",
   "execution_count": 51,
   "metadata": {},
   "outputs": [
    {
     "name": "stdout",
     "output_type": "stream",
     "text": [
      "Best parameters: {'alpha': 0.1}\n",
      "Best estimator: Lasso(alpha=0.1)\n",
      "Mean absolute percentage error: 0.0129251909030844\n"
     ]
    },
    {
     "data": {
      "image/png": "[encoded data removed]",
      "text/plain": [
       "<Figure size 432x288 with 1 Axes>"
      ]
     },
     "metadata": {
      "needs_background": "light"
     },
     "output_type": "display_data"
    }
   ],
   "source": [
    "# make a lasso regression function with gridsearchCV\n",
    "def lasso_regression_gridsearchCV(X_train, y_train, X_test, y_test, alphas):\n",
    "    '''\n",
    "    This function makes a lasso regression with gridsearchCV\n",
    "\n",
    "    Parameters\n",
    "    ----------\n",
    "    X_train : numpy array\n",
    "        X_train data.\n",
    "    y_train : numpy array\n",
    "        y_train data.\n",
    "    X_test : numpy array\n",
    "        X_test data.\n",
    "    y_test : numpy array\n",
    "        y_test data.\n",
    "    alphas : numpy array\n",
    "        alphas for the lasso regression.\n",
    "\n",
    "    Returns\n",
    "    -------\n",
    "    None.   \n",
    "    '''\n",
    "    # create Lasso Modell with gridsearch cv\n",
    "    lasso = Lasso()\n",
    "\n",
    "    # create parameter grid\n",
    "    param_grid = {\"alpha\": alphas}\n",
    "    grid = GridSearchCV(lasso, param_grid, cv=5, scoring=\"neg_mean_absolute_percentage_error\")\n",
    "\n",
    "    # fit the model\n",
    "    grid.fit(X_train, y_train)\n",
    "\n",
    "    # print the best parameters\n",
    "    # get best parameters in a dictionary\n",
    "    best_params = grid.best_params_\n",
    "    print(\"Best parameters:\", grid.best_params_)\n",
    "    print(\"Best estimator:\", grid.best_estimator_)\n",
    "\n",
    "    # predict the model\n",
    "    y_pred = grid.predict(X_test)\n",
    "\n",
    "    # print the mean absolute percentage error\n",
    "    print(\"Mean absolute percentage error:\", mean_absolute_percentage_error(y_test, y_pred))\n",
    "\n",
    "    # create plot y vs yhat an draw model line\n",
    "    plt.scatter(y_test, y_pred)\n",
    "    plt.plot(y_test, y_test, color=\"red\")\n",
    "    plt.xlabel(\"y\")\n",
    "    plt.ylabel(\"yhat\")\n",
    "    plt.show()\n",
    "\n",
    "# call the function\n",
    "lasso_regression_gridsearchCV(X_train_dev, y_train_dev, X_test_dev, y_test_dev, np.linspace(0.1, 1, 10))"
   ]
  },
  {
   "cell_type": "markdown",
   "metadata": {},
   "source": [
    "---\n",
    "# Modell 3 - Ridge Regression\n",
    "\n",
    "Modell 3 ist ein multiples lineares Ridge Modell."
   ]
  },
  {
   "cell_type": "code",
   "execution_count": 52,
   "metadata": {},
   "outputs": [
    {
     "name": "stdout",
     "output_type": "stream",
     "text": [
      "Best parameters: {'alpha': 1.0}\n",
      "Best estimator: Ridge()\n",
      "Mean absolute percentage error: 0.0136742619558929\n"
     ]
    },
    {
     "data": {
      "image/png": "[encoded data removed]",
      "text/plain": [
       "<Figure size 432x288 with 1 Axes>"
      ]
     },
     "metadata": {
      "needs_background": "light"
     },
     "output_type": "display_data"
    }
   ],
   "source": [
    "# make a ridge regression function with gridsearchCV\n",
    "def ridge_regression_gridsearchCV(X_train, y_train, X_test, y_test, alphas):\n",
    "    '''\n",
    "    This function makes a ridge regression with gridsearchCV\n",
    "\n",
    "    Parameters\n",
    "    ----------\n",
    "    X_train : numpy array\n",
    "        X_train data.\n",
    "    y_train : numpy array\n",
    "        y_train data.\n",
    "    X_test : numpy array\n",
    "        X_test data.\n",
    "    y_test : numpy array\n",
    "        y_test data.\n",
    "    alphas : numpy array\n",
    "        alphas for the ridge regression.\n",
    "\n",
    "    Returns\n",
    "    -------\n",
    "    None.   \n",
    "    '''\n",
    "    # create Ridge Modell with gridsearch cv\n",
    "    ridge = Ridge()\n",
    "\n",
    "    # create parameter grid\n",
    "    param_grid = {\"alpha\": alphas}\n",
    "    grid = GridSearchCV(ridge, param_grid, cv=5, scoring=\"neg_mean_absolute_percentage_error\")\n",
    "\n",
    "    # fit the model\n",
    "    grid.fit(X_train, y_train)\n",
    "\n",
    "    # print the best parameters\n",
    "    # get best parameters in a dictionary\n",
    "    best_params = grid.best_params_\n",
    "    print(\"Best parameters:\", grid.best_params_)\n",
    "    print(\"Best estimator:\", grid.best_estimator_)\n",
    "\n",
    "    # predict the model\n",
    "    y_pred = grid.predict(X_test)\n",
    "\n",
    "    # print the mean absolute percentage error\n",
    "    print(\"Mean absolute percentage error:\", mean_absolute_percentage_error(y_test, y_pred))\n",
    "\n",
    "    # create plot y vs yhat an draw model line\n",
    "    plt.scatter(y_test, y_pred)\n",
    "    plt.plot(y_test, y_test, color=\"red\")\n",
    "    plt.xlabel(\"y\")\n",
    "    plt.ylabel(\"yhat\")\n",
    "    plt.show()\n",
    "\n",
    "# call the function\n",
    "ridge_regression_gridsearchCV(X_train_dev, y_train_dev, X_test_dev, y_test_dev, np.linspace(0.1, 1, 10))"
   ]
  },
  {
   "cell_type": "markdown",
   "metadata": {},
   "source": [
    "---\n",
    "# Modell 4 - Elastic Net Regression\n",
    "\n",
    "Modell 4 ist ein multiples lineares Elastic Net Modell."
   ]
  },
  {
   "cell_type": "code",
   "execution_count": 55,
   "metadata": {},
   "outputs": [
    {
     "name": "stdout",
     "output_type": "stream",
     "text": [
      "Best parameters: {'alpha': 0.1, 'l1_ratio': 1.0}\n",
      "Best estimator: ElasticNet(alpha=0.1, l1_ratio=1.0)\n",
      "Mean absolute percentage error: 0.0129251909030844\n"
     ]
    },
    {
     "data": {
      "image/png": "[encoded data removed]",
      "text/plain": [
       "<Figure size 432x288 with 1 Axes>"
      ]
     },
     "metadata": {
      "needs_background": "light"
     },
     "output_type": "display_data"
    }
   ],
   "source": [
    "# make a elastic net regression function with gridsearchCV\n",
    "def elastic_net_regression_gridsearchCV(X_train, y_train, X_test, y_test, alphas, l1_ratio):\n",
    "    '''\n",
    "    This function makes a elastic net regression with gridsearchCV\n",
    "\n",
    "    Parameters\n",
    "    ----------\n",
    "    X_train : numpy array\n",
    "        X_train data.\n",
    "    y_train : numpy array\n",
    "        y_train data.\n",
    "    X_test : numpy array\n",
    "        X_test data.\n",
    "    y_test : numpy array\n",
    "        y_test data.\n",
    "    alphas : numpy array\n",
    "        alphas for the elastic net regression.\n",
    "    l1_ratio : numpy array\n",
    "        l1_ratio for the elastic net regression.\n",
    "\n",
    "    Returns\n",
    "    -------\n",
    "    None.   \n",
    "    '''\n",
    "    # create ElasticNet Modell with gridsearch cv\n",
    "    elastic_net = ElasticNet()\n",
    "\n",
    "    # create parameter grid\n",
    "    param_grid = {\"alpha\": alphas, \"l1_ratio\": l1_ratio}\n",
    "    grid = GridSearchCV(elastic_net, param_grid, cv=5, scoring=\"neg_mean_absolute_percentage_error\")\n",
    "\n",
    "    # fit the model\n",
    "    grid.fit(X_train, y_train)\n",
    "\n",
    "    # print the best parameters\n",
    "    # get best parameters in a dictionary\n",
    "    best_params = grid.best_params_\n",
    "    print(\"Best parameters:\", grid.best_params_)\n",
    "    print(\"Best estimator:\", grid.best_estimator_)\n",
    "\n",
    "    # predict the model\n",
    "    y_pred = grid.predict(X_test)\n",
    "\n",
    "    # print the mean absolute percentage error\n",
    "    print(\"Mean absolute percentage error:\", mean_absolute_percentage_error(y_test, y_pred))\n",
    "\n",
    "    # create plot y vs yhat an draw model line\n",
    "    plt.scatter(y_test, y_pred)\n",
    "    plt.plot(y_test, y_test, color=\"red\")\n",
    "    plt.xlabel(\"y\")\n",
    "    plt.ylabel(\"yhat\")\n",
    "    plt.show()\n",
    "\n",
    "# call the function\n",
    "elastic_net_regression_gridsearchCV(X_train_dev, y_train_dev, X_test_dev, y_test_dev, np.linspace(0.1, 1, 10), np.linspace(0.1, 1, 10))\n"
   ]
  },
  {
   "cell_type": "markdown",
   "metadata": {},
   "source": [
    "---\n",
    "# Modell 5 - KNN Regression\n",
    "\n",
    "Modell 5 ist ein KNN Modell."
   ]
  },
  {
   "cell_type": "code",
   "execution_count": 59,
   "metadata": {},
   "outputs": [
    {
     "name": "stdout",
     "output_type": "stream",
     "text": [
      "Best parameters: {'n_neighbors': 9}\n",
      "Best estimator: KNeighborsRegressor(n_neighbors=9)\n",
      "Mean absolute percentage error: 0.9396701925804785\n"
     ]
    },
    {
     "data": {
      "image/png": "[encoded data removed]",
      "text/plain": [
       "<Figure size 432x288 with 1 Axes>"
      ]
     },
     "metadata": {
      "needs_background": "light"
     },
     "output_type": "display_data"
    }
   ],
   "source": [
    "# make a KNN regression function with gridsearchCV\n",
    "def knn_regression_gridsearchCV(X_train, y_train, X_test, y_test, n_neighbors):\n",
    "    '''\n",
    "    This function makes a KNN regression with gridsearchCV\n",
    "\n",
    "    Parameters\n",
    "    ----------\n",
    "    X_train : numpy array\n",
    "        X_train data.\n",
    "    y_train : numpy array\n",
    "        y_train data.\n",
    "    X_test : numpy array\n",
    "        X_test data.\n",
    "    y_test : numpy array\n",
    "        y_test data.\n",
    "    n_neighbors : numpy array\n",
    "        n_neighbors for the KNN regression.\n",
    "\n",
    "    Returns\n",
    "    -------\n",
    "    None.   \n",
    "    '''\n",
    "    # create KNN Modell with gridsearch cv\n",
    "    knn = KNeighborsRegressor()\n",
    "\n",
    "    # create parameter grid\n",
    "    param_grid = {\"n_neighbors\": n_neighbors}\n",
    "    grid = GridSearchCV(knn, param_grid, cv=5, scoring=\"neg_mean_absolute_percentage_error\")\n",
    "\n",
    "    # fit the model\n",
    "    grid.fit(X_train, y_train)\n",
    "\n",
    "    # print the best parameters\n",
    "    # get best parameters in a dictionary\n",
    "    best_params = grid.best_params_\n",
    "    print(\"Best parameters:\", grid.best_params_)\n",
    "    print(\"Best estimator:\", grid.best_estimator_)\n",
    "\n",
    "    # predict the model\n",
    "    y_pred = grid.predict(X_test)\n",
    "\n",
    "    # print the mean absolute percentage error\n",
    "    print(\"Mean absolute percentage error:\", mean_absolute_percentage_error(y_test, y_pred))\n",
    "\n",
    "    # create plot y vs yhat an draw model line\n",
    "    plt.scatter(y_test, y_pred)\n",
    "    plt.plot(y_test, y_test, color=\"red\")\n",
    "    plt.xlabel(\"y\")\n",
    "    plt.ylabel(\"yhat\")\n",
    "    plt.show()\n",
    "\n",
    "# call the function\n",
    "knn_regression_gridsearchCV(X_train_dev, y_train_dev, X_test_dev, y_test_dev, np.arange(1, 10))\n"
   ]
  },
  {
   "cell_type": "markdown",
   "metadata": {},
   "source": [
    "---\n",
    "# Modell 6 - Decision Tree Regression\n",
    "\n",
    "Modell 6 ist ein Decision Tree Modell."
   ]
  },
  {
   "cell_type": "code",
   "execution_count": 62,
   "metadata": {},
   "outputs": [
    {
     "name": "stdout",
     "output_type": "stream",
     "text": [
      "Best parameters: {'max_depth': 9}\n",
      "Best estimator: DecisionTreeRegressor(max_depth=9)\n",
      "Mean absolute percentage error: 0.844133510933749\n"
     ]
    },
    {
     "data": {
      "image/png": "[encoded data removed]",
      "text/plain": [
       "<Figure size 432x288 with 1 Axes>"
      ]
     },
     "metadata": {
      "needs_background": "light"
     },
     "output_type": "display_data"
    }
   ],
   "source": [
    "# make a Decision Tree regression function with gridsearchCV\n",
    "def decision_tree_regression_gridsearchCV(X_train, y_train, X_test, y_test, max_depth):\n",
    "    '''\n",
    "    This function makes a Decision Tree regression with gridsearchCV\n",
    "\n",
    "    Parameters\n",
    "    ----------\n",
    "    X_train : numpy array\n",
    "        X_train data.\n",
    "    y_train : numpy array\n",
    "        y_train data.\n",
    "    X_test : numpy array\n",
    "        X_test data.\n",
    "    y_test : numpy array\n",
    "        y_test data.\n",
    "    max_depth : numpy array\n",
    "        max_depth for the Decision Tree regression.\n",
    "\n",
    "    Returns\n",
    "    -------\n",
    "    None.   \n",
    "    '''\n",
    "    # create Decision Tree Modell with gridsearch cv\n",
    "    decision_tree = DecisionTreeRegressor()\n",
    "\n",
    "    # create parameter grid\n",
    "    param_grid = {\"max_depth\": max_depth}\n",
    "    grid = GridSearchCV(decision_tree, param_grid, cv=5, scoring=\"neg_mean_absolute_percentage_error\")\n",
    "\n",
    "    # fit the model\n",
    "    grid.fit(X_train, y_train)\n",
    "\n",
    "    # print the best parameters\n",
    "    # get best parameters in a dictionary\n",
    "    best_params = grid.best_params_\n",
    "    print(\"Best parameters:\", grid.best_params_)\n",
    "    print(\"Best estimator:\", grid.best_estimator_)\n",
    "\n",
    "    # predict the model\n",
    "    y_pred = grid.predict(X_test)\n",
    "\n",
    "    # print the mean absolute percentage error\n",
    "    print(\"Mean absolute percentage error:\", mean_absolute_percentage_error(y_test, y_pred))\n",
    "\n",
    "    # create plot y vs yhat an draw model line\n",
    "    plt.scatter(y_test, y_pred)\n",
    "    plt.plot(y_test, y_test, color=\"red\")\n",
    "    plt.xlabel(\"y\")\n",
    "    plt.ylabel(\"yhat\")\n",
    "    plt.show()\n",
    "\n",
    "# call the function\n",
    "decision_tree_regression_gridsearchCV(X_train_dev, y_train_dev, X_test_dev, y_test_dev, np.arange(1, 10))"
   ]
  },
  {
   "cell_type": "markdown",
   "metadata": {},
   "source": [
    "---\n",
    "# Modell 7 - Random Forest Regression\n",
    "\n",
    "Modell 7 ist ein Random Forest Modell."
   ]
  },
  {
   "cell_type": "code",
   "execution_count": 64,
   "metadata": {},
   "outputs": [
    {
     "name": "stdout",
     "output_type": "stream",
     "text": [
      "Best parameters: {'max_depth': 6, 'n_estimators': 8}\n",
      "Best estimator: RandomForestRegressor(max_depth=6, n_estimators=8)\n",
      "Mean absolute percentage error: 0.7139773327486166\n"
     ]
    },
    {
     "data": {
      "image/png": "[encoded data removed]",
      "text/plain": [
       "<Figure size 432x288 with 1 Axes>"
      ]
     },
     "metadata": {
      "needs_background": "light"
     },
     "output_type": "display_data"
    }
   ],
   "source": [
    "# make a Random Forest regression function with gridsearchCV\n",
    "def random_forest_regression_gridsearchCV(X_train, y_train, X_test, y_test, max_depth, n_estimators):\n",
    "    '''\n",
    "    This function makes a Random Forest regression with gridsearchCV\n",
    "\n",
    "    Parameters\n",
    "    ----------\n",
    "    X_train : numpy array\n",
    "        X_train data.\n",
    "    y_train : numpy array\n",
    "        y_train data.\n",
    "    X_test : numpy array\n",
    "        X_test data.\n",
    "    y_test : numpy array\n",
    "        y_test data.\n",
    "    max_depth : numpy array\n",
    "        max_depth for the Random Forest regression.\n",
    "    n_estimators : numpy array\n",
    "        n_estimators for the Random Forest regression.\n",
    "\n",
    "    Returns\n",
    "    -------\n",
    "    None.   \n",
    "    '''\n",
    "    # create Random Forest Modell with gridsearch cv\n",
    "    random_forest = RandomForestRegressor()\n",
    "\n",
    "    # create parameter grid\n",
    "    param_grid = {\"max_depth\": max_depth, \"n_estimators\": n_estimators}\n",
    "    grid = GridSearchCV(random_forest, param_grid, cv=5, scoring=\"neg_mean_absolute_percentage_error\")\n",
    "\n",
    "    # fit the model\n",
    "    grid.fit(X_train, y_train)\n",
    "\n",
    "    # print the best parameters\n",
    "    # get best parameters in a dictionary\n",
    "    best_params = grid.best_params_\n",
    "    print(\"Best parameters:\", grid.best_params_)\n",
    "    print(\"Best estimator:\", grid.best_estimator_)\n",
    "\n",
    "    # predict the model\n",
    "    y_pred = grid.predict(X_test)\n",
    "\n",
    "    # print the mean absolute percentage error\n",
    "    print(\"Mean absolute percentage error:\", mean_absolute_percentage_error(y_test, y_pred))\n",
    "\n",
    "    # create plot y vs yhat an draw model line\n",
    "    plt.scatter(y_test, y_pred)\n",
    "    plt.plot(y_test, y_test, color=\"red\")\n",
    "    plt.xlabel(\"y\")\n",
    "    plt.ylabel(\"yhat\")\n",
    "    plt.show()\n",
    "\n",
    "# call the function\n",
    "random_forest_regression_gridsearchCV(X_train_dev, y_train_dev, X_test_dev, y_test_dev, np.arange(1, 10), np.arange(1, 10))"
   ]
  },
  {
   "cell_type": "markdown",
   "metadata": {},
   "source": [
    "---\n",
    "# Modell 8 - Gradient Boosting Regression\n",
    "\n",
    "Modell 8 ist ein Gradient Boosting Modell."
   ]
  },
  {
   "cell_type": "code",
   "execution_count": 66,
   "metadata": {},
   "outputs": [
    {
     "name": "stdout",
     "output_type": "stream",
     "text": [
      "Best parameters: {'max_depth': 9, 'n_estimators': 5}\n",
      "Best estimator: GradientBoostingRegressor(max_depth=9, n_estimators=5)\n",
      "Mean absolute percentage error: 0.7369320686641078\n"
     ]
    },
    {
     "data": {
      "image/png": "[encoded data removed]",
      "text/plain": [
       "<Figure size 432x288 with 1 Axes>"
      ]
     },
     "metadata": {
      "needs_background": "light"
     },
     "output_type": "display_data"
    }
   ],
   "source": [
    "# make a Gradient Boosting regression function with gridsearchCV\n",
    "def gradient_boosting_regression_gridsearchCV(X_train, y_train, X_test, y_test, max_depth, n_estimators):\n",
    "    '''\n",
    "    This function makes a Gradient Boosting regression with gridsearchCV\n",
    "\n",
    "    Parameters\n",
    "    ----------\n",
    "    X_train : numpy array\n",
    "        X_train data.\n",
    "    y_train : numpy array\n",
    "        y_train data.\n",
    "    X_test : numpy array\n",
    "        X_test data.\n",
    "    y_test : numpy array\n",
    "        y_test data.\n",
    "    max_depth : numpy array\n",
    "        max_depth for the Gradient Boosting regression.\n",
    "    n_estimators : numpy array\n",
    "        n_estimators for the Gradient Boosting regression.\n",
    "\n",
    "    Returns\n",
    "    -------\n",
    "    None.   \n",
    "    '''\n",
    "    # create Gradient Boosting Modell with gridsearch cv\n",
    "    gradient_boosting = GradientBoostingRegressor()\n",
    "\n",
    "    # create parameter grid \n",
    "    # add more parameters to the parameter grid\n",
    "    param_grid = {\"max_depth\": max_depth, \"n_estimators\": n_estimators}\n",
    "    grid = GridSearchCV(gradient_boosting, param_grid, cv=5, scoring=\"neg_mean_absolute_percentage_error\")\n",
    "\n",
    "    # fit the model\n",
    "    grid.fit(X_train, y_train)\n",
    "\n",
    "    # print the best parameters\n",
    "    # get best parameters in a dictionary\n",
    "    best_params = grid.best_params_\n",
    "    print(\"Best parameters:\", grid.best_params_)\n",
    "    print(\"Best estimator:\", grid.best_estimator_)\n",
    "\n",
    "    # predict the model\n",
    "    y_pred = grid.predict(X_test)\n",
    "\n",
    "    # print the mean absolute percentage error\n",
    "    print(\"Mean absolute percentage error:\", mean_absolute_percentage_error(y_test, y_pred))\n",
    "\n",
    "    # create plot y vs yhat an draw model line\n",
    "    plt.scatter(y_test, y_pred)\n",
    "    plt.plot(y_test, y_test, color=\"red\")\n",
    "    plt.xlabel(\"y\")\n",
    "    plt.ylabel(\"yhat\")\n",
    "    plt.show()\n",
    "\n",
    "# call the function\n",
    "gradient_boosting_regression_gridsearchCV(X_train_dev, y_train_dev, X_test_dev, y_test_dev, np.arange(1, 10), np.arange(1, 10))\n"
   ]
  },
  {
   "cell_type": "markdown",
   "metadata": {},
   "source": [
    "---\n",
    "# Modell 9 - XGBoost Regression\n",
    "\n",
    "Modell 9 ist ein XGBoost Modell."
   ]
  },
  {
   "cell_type": "code",
   "execution_count": null,
   "metadata": {},
   "outputs": [],
   "source": []
  },
  {
   "cell_type": "markdown",
   "metadata": {},
   "source": [
    "---\n",
    "# Vergleiche der Modelle\n",
    "\n",
    "Hier werden die Modelle miteinander verglichen und tabellerisch sowie visualisiert dargestellt.\n",
    "Dabei dient das Modell 1 - Multiple Linear Model, als Benchmark."
   ]
  },
  {
   "cell_type": "code",
   "execution_count": null,
   "metadata": {},
   "outputs": [],
   "source": [
    "# CODE"
   ]
  },
  {
   "cell_type": "markdown",
   "metadata": {},
   "source": [
    "---\n",
    "# Untersuchung der \"Variable Importance\" für das beste Modell\n",
    "\n",
    "Hier untersuchen wir die \"Variable Importance\" für das beste Modell.\n",
    "Es hat sich herausgestellt, dass die ....."
   ]
  },
  {
   "cell_type": "code",
   "execution_count": null,
   "metadata": {},
   "outputs": [],
   "source": [
    "# CODE"
   ]
  },
  {
   "cell_type": "markdown",
   "metadata": {},
   "source": [
    "---\n",
    "# Fazit\n",
    "\n",
    "Hier schreiben wir unser Fazit."
   ]
  }
 ],
 "metadata": {
  "kernelspec": {
   "display_name": "Python 3.9.7 64-bit",
   "language": "python",
   "name": "python3"
  },
  "language_info": {
   "codemirror_mode": {
    "name": "ipython",
    "version": 3
   },
   "file_extension": ".py",
   "mimetype": "text/x-python",
   "name": "python",
   "nbconvert_exporter": "python",
   "pygments_lexer": "ipython3",
   "version": "3.9.7"
  },
  "orig_nbformat": 4,
  "vscode": {
   "interpreter": {
    "hash": "11938c6bc6919ae2720b4d5011047913343b08a43b18698fd82dedb0d4417594"
   }
  }
 },
 "nbformat": 4,
 "nbformat_minor": 2
}
